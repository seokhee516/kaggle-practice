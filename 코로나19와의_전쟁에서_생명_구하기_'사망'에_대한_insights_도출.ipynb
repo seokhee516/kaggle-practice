{
  "nbformat": 4,
  "nbformat_minor": 0,
  "metadata": {
    "colab": {
      "name": "코로나19와의 전쟁에서 생명 구하기 - '사망'에 대한 insights 도출.ipynb",
      "provenance": [],
      "mount_file_id": "19osh868D4eTjDdnda1LASZFu6q85uN1f",
      "authorship_tag": "ABX9TyNv6jJXskChlgiYn6JTkQGG",
      "include_colab_link": true
    },
    "kernelspec": {
      "name": "python3",
      "display_name": "Python 3"
    },
    "language_info": {
      "name": "python"
    }
  },
  "cells": [
    {
      "cell_type": "markdown",
      "metadata": {
        "id": "view-in-github",
        "colab_type": "text"
      },
      "source": [
        "<a href=\"https://colab.research.google.com/github/seokhee516/kaggle-practice/blob/main/%EC%BD%94%EB%A1%9C%EB%82%9819%EC%99%80%EC%9D%98_%EC%A0%84%EC%9F%81%EC%97%90%EC%84%9C_%EC%83%9D%EB%AA%85_%EA%B5%AC%ED%95%98%EA%B8%B0_'%EC%82%AC%EB%A7%9D'%EC%97%90_%EB%8C%80%ED%95%9C_insights_%EB%8F%84%EC%B6%9C.ipynb\" target=\"_parent\"><img src=\"https://colab.research.google.com/assets/colab-badge.svg\" alt=\"Open In Colab\"/></a>"
      ]
    },
    {
      "cell_type": "markdown",
      "metadata": {
        "id": "EHRoi9P2N0-w"
      },
      "source": [
        "\n",
        "원본 주소: https://dacon.io/competitions/official/235590/codeshare/949"
      ]
    },
    {
      "cell_type": "code",
      "metadata": {
        "colab": {
          "base_uri": "https://localhost:8080/"
        },
        "id": "6sJlHwQkeXHU",
        "outputId": "6f3d6ce3-f849-492b-a29b-713fbc93d115"
      },
      "source": [
        "# 구글 드라이브 경로 설정\n",
        "cd /content/drive/MyDrive/Colab Notebooks/coronavirusdataset_20200430"
      ],
      "execution_count": 3,
      "outputs": [
        {
          "output_type": "stream",
          "name": "stdout",
          "text": [
            "/content/drive/MyDrive/Colab Notebooks/coronavirusdataset_20200430\n"
          ]
        }
      ]
    },
    {
      "cell_type": "markdown",
      "metadata": {
        "id": "ESP_WzT8fgV2"
      },
      "source": [
        "### State of the art: 코로나 19에 대해 현재까지 우리가 알고있는 것\n",
        "코로나 사망 주요요인\n",
        "- 연령: 고연령층 사망 위험 높음\n",
        "- 기저질환: 기저질환 보유자 사망 위험 높음\n",
        "\n",
        "프로젝트 분석의 초점: **행동적 요인**  \n",
        "- 연령, 기저질환, 성별 -> 생물학적/인구학적 요인\n",
        "- 행동적 요인은 통제 범위 넓음\n",
        "- 사람이 통제할 수 있는, 생명을 구라는 가능성을 높일 수 있는 행동 요인 파악 목적"
      ]
    },
    {
      "cell_type": "markdown",
      "metadata": {
        "id": "DBCpY7Ehgsj1"
      },
      "source": [
        "# 결론 핵심 요약\n",
        "## 1) 확진자 행동 특성의 네 가지 유형\n",
        "- 1) **Hypermobile and hypersocial unknowns** (매우 높은 수준의 유동성과 사회성): 감염 경로 파악 어려움, 확진 늦게 받음 \n",
        "- 2) **Moderate groupies** (유동성 보통, 다소 높은 사회성): 집단 감염 유형. 확진 받기까지 평균 수준 시간\n",
        "- 3) **Social minimalists** (유동성, 사회성 보통보다 낮음): 직접 접촉 감염. 확진 받기까지 평균 수준 시간\n",
        "- 4) **Overseas non-essentialists가장** (낮은 수준의 유동성과 사회성): 해외에서 유입. 확진까지 가장 짧은 시간\n",
        "\n",
        "## 2) 사망 위험과 관련된 주요 요인: 확진받기까지 걸린 시간\n",
        "확진을 빠르게 받음으로써 사망 위험을 줄이고 생명을 살릴 가능성도 높일 수 있다\n"
      ]
    },
    {
      "cell_type": "markdown",
      "metadata": {
        "id": "eGzr9CQQjvP5"
      },
      "source": [
        "# 1. Feature engineering\n",
        "행동과 관련된 특성/요인: 확진자들의 통제 하에 있는 특성/요인. 확진자들에 선택에 따라 값이 달라지는 특성을 의미\n",
        "\n",
        "행동패턴 파악을 위해 Cluster 모델 활용 확진자 행동 유형 구분.\n",
        "- 1) 감염 겸로 유형\n",
        "- 2) 유동성\n",
        "- 3) 접촉 정도\n",
        "- 4) 확진받기까지 걸린 시간"
      ]
    },
    {
      "cell_type": "markdown",
      "metadata": {
        "id": "RLDiDIrbwxGI"
      },
      "source": [
        "## 1.0. Data prep"
      ]
    },
    {
      "cell_type": "code",
      "metadata": {
        "id": "Bq1joLyqwwSa"
      },
      "source": [
        "from IPython.display import HTML\n",
        "import pandas as pd\n",
        "import numpy as np\n",
        "import seaborn as sns\n",
        "import matplotlib.pyplot as plt\n",
        "import matplotlib.dates as mdates\n",
        "import matplotlib.animation as animation\n",
        "\n",
        "import plotly.express as px\n",
        "import plotly.io as pio\n",
        "pio.renderers.default = \"notebook_connected\"\n",
        "\n",
        "from sklearn.preprocessing import LabelEncoder, OneHotEncoder, StandardScaler\n",
        "from sklearn.cluster import KMeans\n",
        "from sklearn.decomposition import PCA\n",
        "\n",
        "pd.set_option('display.float_format', lambda x: '%.2f' % x)\n",
        "import warnings\n",
        "warnings.filterwarnings('ignore')"
      ],
      "execution_count": 6,
      "outputs": []
    },
    {
      "cell_type": "code",
      "metadata": {
        "colab": {
          "base_uri": "https://localhost:8080/",
          "height": 215
        },
        "id": "QL8YmEEMc1tq",
        "outputId": "ff9c4330-7346-4d97-e51b-c06783c024bb"
      },
      "source": [
        "patient = pd.read_csv('PatientInfo.csv')\n",
        "patient.head(3)"
      ],
      "execution_count": 7,
      "outputs": [
        {
          "output_type": "execute_result",
          "data": {
            "text/html": [
              "<div>\n",
              "<style scoped>\n",
              "    .dataframe tbody tr th:only-of-type {\n",
              "        vertical-align: middle;\n",
              "    }\n",
              "\n",
              "    .dataframe tbody tr th {\n",
              "        vertical-align: top;\n",
              "    }\n",
              "\n",
              "    .dataframe thead th {\n",
              "        text-align: right;\n",
              "    }\n",
              "</style>\n",
              "<table border=\"1\" class=\"dataframe\">\n",
              "  <thead>\n",
              "    <tr style=\"text-align: right;\">\n",
              "      <th></th>\n",
              "      <th>patient_id</th>\n",
              "      <th>global_num</th>\n",
              "      <th>sex</th>\n",
              "      <th>birth_year</th>\n",
              "      <th>age</th>\n",
              "      <th>country</th>\n",
              "      <th>province</th>\n",
              "      <th>city</th>\n",
              "      <th>disease</th>\n",
              "      <th>infection_case</th>\n",
              "      <th>infection_order</th>\n",
              "      <th>infected_by</th>\n",
              "      <th>contact_number</th>\n",
              "      <th>symptom_onset_date</th>\n",
              "      <th>confirmed_date</th>\n",
              "      <th>released_date</th>\n",
              "      <th>deceased_date</th>\n",
              "      <th>state</th>\n",
              "    </tr>\n",
              "  </thead>\n",
              "  <tbody>\n",
              "    <tr>\n",
              "      <th>0</th>\n",
              "      <td>1000000001</td>\n",
              "      <td>2.00</td>\n",
              "      <td>male</td>\n",
              "      <td>1964.00</td>\n",
              "      <td>50s</td>\n",
              "      <td>Korea</td>\n",
              "      <td>Seoul</td>\n",
              "      <td>Gangseo-gu</td>\n",
              "      <td>NaN</td>\n",
              "      <td>overseas inflow</td>\n",
              "      <td>1.00</td>\n",
              "      <td>nan</td>\n",
              "      <td>75.00</td>\n",
              "      <td>2020-01-22</td>\n",
              "      <td>2020-01-23</td>\n",
              "      <td>2020-02-05</td>\n",
              "      <td>NaN</td>\n",
              "      <td>released</td>\n",
              "    </tr>\n",
              "    <tr>\n",
              "      <th>1</th>\n",
              "      <td>1000000002</td>\n",
              "      <td>5.00</td>\n",
              "      <td>male</td>\n",
              "      <td>1987.00</td>\n",
              "      <td>30s</td>\n",
              "      <td>Korea</td>\n",
              "      <td>Seoul</td>\n",
              "      <td>Jungnang-gu</td>\n",
              "      <td>NaN</td>\n",
              "      <td>overseas inflow</td>\n",
              "      <td>1.00</td>\n",
              "      <td>nan</td>\n",
              "      <td>31.00</td>\n",
              "      <td>NaN</td>\n",
              "      <td>2020-01-30</td>\n",
              "      <td>2020-03-02</td>\n",
              "      <td>NaN</td>\n",
              "      <td>released</td>\n",
              "    </tr>\n",
              "    <tr>\n",
              "      <th>2</th>\n",
              "      <td>1000000003</td>\n",
              "      <td>6.00</td>\n",
              "      <td>male</td>\n",
              "      <td>1964.00</td>\n",
              "      <td>50s</td>\n",
              "      <td>Korea</td>\n",
              "      <td>Seoul</td>\n",
              "      <td>Jongno-gu</td>\n",
              "      <td>NaN</td>\n",
              "      <td>contact with patient</td>\n",
              "      <td>2.00</td>\n",
              "      <td>2002000001.00</td>\n",
              "      <td>17.00</td>\n",
              "      <td>NaN</td>\n",
              "      <td>2020-01-30</td>\n",
              "      <td>2020-02-19</td>\n",
              "      <td>NaN</td>\n",
              "      <td>released</td>\n",
              "    </tr>\n",
              "  </tbody>\n",
              "</table>\n",
              "</div>"
            ],
            "text/plain": [
              "   patient_id  global_num   sex  ...  released_date deceased_date     state\n",
              "0  1000000001        2.00  male  ...     2020-02-05           NaN  released\n",
              "1  1000000002        5.00  male  ...     2020-03-02           NaN  released\n",
              "2  1000000003        6.00  male  ...     2020-02-19           NaN  released\n",
              "\n",
              "[3 rows x 18 columns]"
            ]
          },
          "metadata": {},
          "execution_count": 7
        }
      ]
    },
    {
      "cell_type": "code",
      "metadata": {
        "colab": {
          "base_uri": "https://localhost:8080/"
        },
        "id": "7a-7sFm2etfK",
        "outputId": "18f3592e-0eb1-4769-bd42-6bb8bc8f3310"
      },
      "source": [
        "print(patient.shape, len(patient.patient_id.unique()))"
      ],
      "execution_count": 8,
      "outputs": [
        {
          "output_type": "stream",
          "name": "stdout",
          "text": [
            "(3388, 18) 3388\n"
          ]
        }
      ]
    },
    {
      "cell_type": "code",
      "metadata": {
        "id": "B32dz2CAz_9X"
      },
      "source": [
        "# 질문 : 데이터 분석할때 왜 copy를 해줄까? 얕은 카피\n",
        "data = patient.copy()"
      ],
      "execution_count": 9,
      "outputs": []
    },
    {
      "cell_type": "markdown",
      "metadata": {
        "id": "rSXWjdsJ0iWQ"
      },
      "source": [
        "\n"
      ]
    },
    {
      "cell_type": "code",
      "metadata": {
        "colab": {
          "base_uri": "https://localhost:8080/"
        },
        "id": "lHJd19eg0Uhl",
        "outputId": "dd0be491-f318-489e-b597-b4834fb0562a"
      },
      "source": [
        "print('the number of unique values in infection_case:', len(data['infection_case'].unique()))\n",
        "data['infection_case'].unique()"
      ],
      "execution_count": 10,
      "outputs": [
        {
          "output_type": "stream",
          "name": "stdout",
          "text": [
            "the number of unique values in infection_case: 24\n"
          ]
        },
        {
          "output_type": "execute_result",
          "data": {
            "text/plain": [
              "array(['overseas inflow', 'contact with patient', 'Seongdong-gu APT',\n",
              "       'etc', \"Eunpyeong St. Mary's Hospital\", 'Shincheonji Church',\n",
              "       'Dongan Church', 'Guro-gu Call Center', 'Onchun Church',\n",
              "       'Cheongdo Daenam Hospital', 'Suyeong-gu Kindergarten', nan,\n",
              "       'Ministry of Oceans and Fisheries', 'gym facility in Cheonan',\n",
              "       'gym facility in Sejong', 'River of Grace Community Church',\n",
              "       'Gyeongsan Seorin Nursing Home',\n",
              "       'Gyeongsan Cham Joeun Community Center',\n",
              "       'Gyeongsan Jeil Silver Town', 'Bonghwa Pureun Nursing Home',\n",
              "       'Pilgrimage to Israel', 'Milal Shelter', 'Geochang Church',\n",
              "       'Changnyeong Coin Karaoke'], dtype=object)"
            ]
          },
          "metadata": {},
          "execution_count": 10
        }
      ]
    },
    {
      "cell_type": "code",
      "metadata": {
        "colab": {
          "base_uri": "https://localhost:8080/",
          "height": 404
        },
        "id": "FuxrxQ041Ai1",
        "outputId": "1c603557-5d89-474d-8dfe-d7dc036d8168"
      },
      "source": [
        "# 의견 : 변수 개수로 비중 확인 + 집단감염 판단\n",
        "g = data.groupby(['infection_case'])['patient_id'].count()\n",
        "g = g.reset_index()\n",
        "g.rename(columns = {'patient_id': 'count'}, inplace = True)\n",
        "\n",
        "g = g.sort_values('count', ascending = False)\n",
        "plt.figure(figsize = (12,6))\n",
        "plt.title('number of patients in infection_case values')\n",
        "sns.barplot(y = 'infection_case', x= 'count', data = g)\n",
        "display()"
      ],
      "execution_count": 13,
      "outputs": [
        {
          "output_type": "display_data",
          "data": {
            "image/png": "[encoded data removed]",
            "text/plain": [
              "<Figure size 864x432 with 1 Axes>"
            ]
          },
          "metadata": {
            "needs_background": "light"
          }
        }
      ]
    },
    {
      "cell_type": "code",
      "metadata": {
        "colab": {
          "base_uri": "https://localhost:8080/",
          "height": 237
        },
        "id": "wnF0R2sC2ka9",
        "outputId": "a5d85423-d6a7-40d4-b2f2-b008076fe8a4"
      },
      "source": [
        "g = data.groupby(['infection_case'])['patient_id'].count()\n",
        "g = pd.DataFrame(g)\n",
        "\n",
        "# 방법 : 조건을 통해 index 고르는 방법\n",
        "infection_case_less_than_5 = g[g['patient_id'] < 5].index.tolist()\n",
        "g[g.index.isin(infection_case_less_than_5)]"
      ],
      "execution_count": 14,
      "outputs": [
        {
          "output_type": "execute_result",
          "data": {
            "text/html": [
              "<div>\n",
              "<style scoped>\n",
              "    .dataframe tbody tr th:only-of-type {\n",
              "        vertical-align: middle;\n",
              "    }\n",
              "\n",
              "    .dataframe tbody tr th {\n",
              "        vertical-align: top;\n",
              "    }\n",
              "\n",
              "    .dataframe thead th {\n",
              "        text-align: right;\n",
              "    }\n",
              "</style>\n",
              "<table border=\"1\" class=\"dataframe\">\n",
              "  <thead>\n",
              "    <tr style=\"text-align: right;\">\n",
              "      <th></th>\n",
              "      <th>patient_id</th>\n",
              "    </tr>\n",
              "    <tr>\n",
              "      <th>infection_case</th>\n",
              "      <th></th>\n",
              "    </tr>\n",
              "  </thead>\n",
              "  <tbody>\n",
              "    <tr>\n",
              "      <th>Changnyeong Coin Karaoke</th>\n",
              "      <td>4</td>\n",
              "    </tr>\n",
              "    <tr>\n",
              "      <th>Pilgrimage to Israel</th>\n",
              "      <td>2</td>\n",
              "    </tr>\n",
              "    <tr>\n",
              "      <th>River of Grace Community Church</th>\n",
              "      <td>1</td>\n",
              "    </tr>\n",
              "    <tr>\n",
              "      <th>Suyeong-gu Kindergarten</th>\n",
              "      <td>3</td>\n",
              "    </tr>\n",
              "    <tr>\n",
              "      <th>gym facility in Sejong</th>\n",
              "      <td>4</td>\n",
              "    </tr>\n",
              "  </tbody>\n",
              "</table>\n",
              "</div>"
            ],
            "text/plain": [
              "                                 patient_id\n",
              "infection_case                             \n",
              "Changnyeong Coin Karaoke                  4\n",
              "Pilgrimage to Israel                      2\n",
              "River of Grace Community Church           1\n",
              "Suyeong-gu Kindergarten                   3\n",
              "gym facility in Sejong                    4"
            ]
          },
          "metadata": {},
          "execution_count": 14
        }
      ]
    },
    {
      "cell_type": "code",
      "metadata": {
        "colab": {
          "base_uri": "https://localhost:8080/"
        },
        "id": "0QN1JWp73uZY",
        "outputId": "7ddf8d49-c769-41fc-83c3-3f82a6c965fe"
      },
      "source": [
        "print('original data shape:', data.shape)\n",
        "data = data[~(data['infection_case'].isin(infection_case_less_than_5))]\n",
        "print('data shape after slicing: ', data.shape)"
      ],
      "execution_count": 15,
      "outputs": [
        {
          "output_type": "stream",
          "name": "stdout",
          "text": [
            "original data shape: (3388, 18)\n",
            "data shape after slicing:  (3374, 18)\n"
          ]
        }
      ]
    },
    {
      "cell_type": "code",
      "metadata": {
        "colab": {
          "base_uri": "https://localhost:8080/"
        },
        "id": "2nZkc5e14ItF",
        "outputId": "b8336d31-61e5-44fc-ce8a-9a15f2f5aeeb"
      },
      "source": [
        "data[data['infection_case'].isna()].shape"
      ],
      "execution_count": 16,
      "outputs": [
        {
          "output_type": "execute_result",
          "data": {
            "text/plain": [
              "(768, 18)"
            ]
          },
          "metadata": {},
          "execution_count": 16
        }
      ]
    },
    {
      "cell_type": "code",
      "metadata": {
        "colab": {
          "base_uri": "https://localhost:8080/",
          "height": 314
        },
        "id": "Hht4qOx54fm7",
        "outputId": "7fea2881-6e1b-42c5-e055-6fbeee5bda6b"
      },
      "source": [
        "# 방법 : 함수와 람다 사용해서 데이터 값 생성하기\n",
        "def categorisation(x):\n",
        "  if x == 'overseas inflow':\n",
        "    y = 'overseas'\n",
        "  elif x == 'contact with patient':\n",
        "    y = 'individual'\n",
        "  elif (x=='etc') | (pd.isna(x)):\n",
        "    y = 'unknown'\n",
        "  else:\n",
        "    y = 'group'\n",
        "  return y\n",
        "\n",
        "data['infection'] = data['infection_case'].apply(lambda x: categorisation(x))\n",
        "print(data.shape)\n",
        "data.head()"
      ],
      "execution_count": 17,
      "outputs": [
        {
          "output_type": "stream",
          "name": "stdout",
          "text": [
            "(3374, 19)\n"
          ]
        },
        {
          "output_type": "execute_result",
          "data": {
            "text/html": [
              "<div>\n",
              "<style scoped>\n",
              "    .dataframe tbody tr th:only-of-type {\n",
              "        vertical-align: middle;\n",
              "    }\n",
              "\n",
              "    .dataframe tbody tr th {\n",
              "        vertical-align: top;\n",
              "    }\n",
              "\n",
              "    .dataframe thead th {\n",
              "        text-align: right;\n",
              "    }\n",
              "</style>\n",
              "<table border=\"1\" class=\"dataframe\">\n",
              "  <thead>\n",
              "    <tr style=\"text-align: right;\">\n",
              "      <th></th>\n",
              "      <th>patient_id</th>\n",
              "      <th>global_num</th>\n",
              "      <th>sex</th>\n",
              "      <th>birth_year</th>\n",
              "      <th>age</th>\n",
              "      <th>country</th>\n",
              "      <th>province</th>\n",
              "      <th>city</th>\n",
              "      <th>disease</th>\n",
              "      <th>infection_case</th>\n",
              "      <th>infection_order</th>\n",
              "      <th>infected_by</th>\n",
              "      <th>contact_number</th>\n",
              "      <th>symptom_onset_date</th>\n",
              "      <th>confirmed_date</th>\n",
              "      <th>released_date</th>\n",
              "      <th>deceased_date</th>\n",
              "      <th>state</th>\n",
              "      <th>infection</th>\n",
              "    </tr>\n",
              "  </thead>\n",
              "  <tbody>\n",
              "    <tr>\n",
              "      <th>0</th>\n",
              "      <td>1000000001</td>\n",
              "      <td>2.00</td>\n",
              "      <td>male</td>\n",
              "      <td>1964.00</td>\n",
              "      <td>50s</td>\n",
              "      <td>Korea</td>\n",
              "      <td>Seoul</td>\n",
              "      <td>Gangseo-gu</td>\n",
              "      <td>NaN</td>\n",
              "      <td>overseas inflow</td>\n",
              "      <td>1.00</td>\n",
              "      <td>nan</td>\n",
              "      <td>75.00</td>\n",
              "      <td>2020-01-22</td>\n",
              "      <td>2020-01-23</td>\n",
              "      <td>2020-02-05</td>\n",
              "      <td>NaN</td>\n",
              "      <td>released</td>\n",
              "      <td>overseas</td>\n",
              "    </tr>\n",
              "    <tr>\n",
              "      <th>1</th>\n",
              "      <td>1000000002</td>\n",
              "      <td>5.00</td>\n",
              "      <td>male</td>\n",
              "      <td>1987.00</td>\n",
              "      <td>30s</td>\n",
              "      <td>Korea</td>\n",
              "      <td>Seoul</td>\n",
              "      <td>Jungnang-gu</td>\n",
              "      <td>NaN</td>\n",
              "      <td>overseas inflow</td>\n",
              "      <td>1.00</td>\n",
              "      <td>nan</td>\n",
              "      <td>31.00</td>\n",
              "      <td>NaN</td>\n",
              "      <td>2020-01-30</td>\n",
              "      <td>2020-03-02</td>\n",
              "      <td>NaN</td>\n",
              "      <td>released</td>\n",
              "      <td>overseas</td>\n",
              "    </tr>\n",
              "    <tr>\n",
              "      <th>2</th>\n",
              "      <td>1000000003</td>\n",
              "      <td>6.00</td>\n",
              "      <td>male</td>\n",
              "      <td>1964.00</td>\n",
              "      <td>50s</td>\n",
              "      <td>Korea</td>\n",
              "      <td>Seoul</td>\n",
              "      <td>Jongno-gu</td>\n",
              "      <td>NaN</td>\n",
              "      <td>contact with patient</td>\n",
              "      <td>2.00</td>\n",
              "      <td>2002000001.00</td>\n",
              "      <td>17.00</td>\n",
              "      <td>NaN</td>\n",
              "      <td>2020-01-30</td>\n",
              "      <td>2020-02-19</td>\n",
              "      <td>NaN</td>\n",
              "      <td>released</td>\n",
              "      <td>individual</td>\n",
              "    </tr>\n",
              "    <tr>\n",
              "      <th>3</th>\n",
              "      <td>1000000004</td>\n",
              "      <td>7.00</td>\n",
              "      <td>male</td>\n",
              "      <td>1991.00</td>\n",
              "      <td>20s</td>\n",
              "      <td>Korea</td>\n",
              "      <td>Seoul</td>\n",
              "      <td>Mapo-gu</td>\n",
              "      <td>NaN</td>\n",
              "      <td>overseas inflow</td>\n",
              "      <td>1.00</td>\n",
              "      <td>nan</td>\n",
              "      <td>9.00</td>\n",
              "      <td>2020-01-26</td>\n",
              "      <td>2020-01-30</td>\n",
              "      <td>2020-02-15</td>\n",
              "      <td>NaN</td>\n",
              "      <td>released</td>\n",
              "      <td>overseas</td>\n",
              "    </tr>\n",
              "    <tr>\n",
              "      <th>4</th>\n",
              "      <td>1000000005</td>\n",
              "      <td>9.00</td>\n",
              "      <td>female</td>\n",
              "      <td>1992.00</td>\n",
              "      <td>20s</td>\n",
              "      <td>Korea</td>\n",
              "      <td>Seoul</td>\n",
              "      <td>Seongbuk-gu</td>\n",
              "      <td>NaN</td>\n",
              "      <td>contact with patient</td>\n",
              "      <td>2.00</td>\n",
              "      <td>1000000002.00</td>\n",
              "      <td>2.00</td>\n",
              "      <td>NaN</td>\n",
              "      <td>2020-01-31</td>\n",
              "      <td>2020-02-24</td>\n",
              "      <td>NaN</td>\n",
              "      <td>released</td>\n",
              "      <td>individual</td>\n",
              "    </tr>\n",
              "  </tbody>\n",
              "</table>\n",
              "</div>"
            ],
            "text/plain": [
              "   patient_id  global_num     sex  ...  deceased_date     state   infection\n",
              "0  1000000001        2.00    male  ...            NaN  released    overseas\n",
              "1  1000000002        5.00    male  ...            NaN  released    overseas\n",
              "2  1000000003        6.00    male  ...            NaN  released  individual\n",
              "3  1000000004        7.00    male  ...            NaN  released    overseas\n",
              "4  1000000005        9.00  female  ...            NaN  released  individual\n",
              "\n",
              "[5 rows x 19 columns]"
            ]
          },
          "metadata": {},
          "execution_count": 17
        }
      ]
    },
    {
      "cell_type": "code",
      "metadata": {
        "colab": {
          "base_uri": "https://localhost:8080/",
          "height": 404
        },
        "id": "joOeRiUeBteF",
        "outputId": "92eeaa76-d394-4953-f090-4f2f324cfb4f"
      },
      "source": [
        "# 방법: 데이터를 새로 만들어서 시각화\n",
        "g = data.groupby(['infection'])['patient_id'].count()\n",
        "g = g.reset_index()\n",
        "g.rename(columns = {'patient_id': 'count'}, inplace = True)\n",
        "\n",
        "g = g.sort_values('count', ascending= False)\n",
        "\n",
        "plt.figure(figsize=(12,6))\n",
        "sns.barplot(y = 'infection', x = 'count', data = g)\n",
        "plt.title('number of patients in infection values')\n",
        "display()"
      ],
      "execution_count": 20,
      "outputs": [
        {
          "output_type": "display_data",
          "data": {
            "image/png": "[encoded data removed]",
            "text/plain": [
              "<Figure size 864x432 with 1 Axes>"
            ]
          },
          "metadata": {
            "needs_background": "light"
          }
        }
      ]
    },
    {
      "cell_type": "markdown",
      "metadata": {
        "id": "b5CuEIxRG0mk"
      },
      "source": [
        "## 1.2. 유동성"
      ]
    },
    {
      "cell_type": "code",
      "metadata": {
        "colab": {
          "base_uri": "https://localhost:8080/",
          "height": 206
        },
        "id": "_81-6IagGUOW",
        "outputId": "5f7bb625-ba56-401d-bf83-e6677b1fe24c"
      },
      "source": [
        "route = pd.read_csv('PatientRoute.csv')\n",
        "route.head()"
      ],
      "execution_count": 21,
      "outputs": [
        {
          "output_type": "execute_result",
          "data": {
            "text/html": [
              "<div>\n",
              "<style scoped>\n",
              "    .dataframe tbody tr th:only-of-type {\n",
              "        vertical-align: middle;\n",
              "    }\n",
              "\n",
              "    .dataframe tbody tr th {\n",
              "        vertical-align: top;\n",
              "    }\n",
              "\n",
              "    .dataframe thead th {\n",
              "        text-align: right;\n",
              "    }\n",
              "</style>\n",
              "<table border=\"1\" class=\"dataframe\">\n",
              "  <thead>\n",
              "    <tr style=\"text-align: right;\">\n",
              "      <th></th>\n",
              "      <th>patient_id</th>\n",
              "      <th>global_num</th>\n",
              "      <th>date</th>\n",
              "      <th>province</th>\n",
              "      <th>city</th>\n",
              "      <th>type</th>\n",
              "      <th>latitude</th>\n",
              "      <th>longitude</th>\n",
              "    </tr>\n",
              "  </thead>\n",
              "  <tbody>\n",
              "    <tr>\n",
              "      <th>0</th>\n",
              "      <td>1000000001</td>\n",
              "      <td>2.00</td>\n",
              "      <td>2020-01-22</td>\n",
              "      <td>Gyeonggi-do</td>\n",
              "      <td>Gimpo-si</td>\n",
              "      <td>airport</td>\n",
              "      <td>37.62</td>\n",
              "      <td>126.72</td>\n",
              "    </tr>\n",
              "    <tr>\n",
              "      <th>1</th>\n",
              "      <td>1000000001</td>\n",
              "      <td>2.00</td>\n",
              "      <td>2020-01-24</td>\n",
              "      <td>Seoul</td>\n",
              "      <td>Jung-gu</td>\n",
              "      <td>hospital</td>\n",
              "      <td>37.57</td>\n",
              "      <td>127.01</td>\n",
              "    </tr>\n",
              "    <tr>\n",
              "      <th>2</th>\n",
              "      <td>1000000002</td>\n",
              "      <td>5.00</td>\n",
              "      <td>2020-01-25</td>\n",
              "      <td>Seoul</td>\n",
              "      <td>Seongbuk-gu</td>\n",
              "      <td>etc</td>\n",
              "      <td>37.59</td>\n",
              "      <td>127.02</td>\n",
              "    </tr>\n",
              "    <tr>\n",
              "      <th>3</th>\n",
              "      <td>1000000002</td>\n",
              "      <td>5.00</td>\n",
              "      <td>2020-01-26</td>\n",
              "      <td>Seoul</td>\n",
              "      <td>Seongbuk-gu</td>\n",
              "      <td>store</td>\n",
              "      <td>37.59</td>\n",
              "      <td>127.02</td>\n",
              "    </tr>\n",
              "    <tr>\n",
              "      <th>4</th>\n",
              "      <td>1000000002</td>\n",
              "      <td>5.00</td>\n",
              "      <td>2020-01-26</td>\n",
              "      <td>Seoul</td>\n",
              "      <td>Seongdong-gu</td>\n",
              "      <td>public_transportation</td>\n",
              "      <td>37.56</td>\n",
              "      <td>127.03</td>\n",
              "    </tr>\n",
              "  </tbody>\n",
              "</table>\n",
              "</div>"
            ],
            "text/plain": [
              "   patient_id  global_num  ... latitude longitude\n",
              "0  1000000001        2.00  ...    37.62    126.72\n",
              "1  1000000001        2.00  ...    37.57    127.01\n",
              "2  1000000002        5.00  ...    37.59    127.02\n",
              "3  1000000002        5.00  ...    37.59    127.02\n",
              "4  1000000002        5.00  ...    37.56    127.03\n",
              "\n",
              "[5 rows x 8 columns]"
            ]
          },
          "metadata": {},
          "execution_count": 21
        }
      ]
    },
    {
      "cell_type": "code",
      "metadata": {
        "colab": {
          "base_uri": "https://localhost:8080/"
        },
        "id": "4B5xJ8GeHDjE",
        "outputId": "72b7aede-1cc3-4525-a26a-dd14e74d863c"
      },
      "source": [
        "print('the number of unique values in type:', len(route['type'].unique()))\n",
        "route['type'].unique()"
      ],
      "execution_count": 22,
      "outputs": [
        {
          "output_type": "stream",
          "name": "stdout",
          "text": [
            "the number of unique values in type: 24\n"
          ]
        },
        {
          "output_type": "execute_result",
          "data": {
            "text/plain": [
              "array(['airport', 'hospital', 'etc', 'store', 'public_transportation',\n",
              "       'restaurant', 'church', 'beauty_salon', 'pharmacy', 'pc_cafe',\n",
              "       'bank', 'cafe', 'bakery', 'bar', 'gym', 'school',\n",
              "       'real_estate_agency', 'karaoke', 'post_office', 'gas_station',\n",
              "       'lodging', 'academy', 'university', 'administrative_area_level_1'],\n",
              "      dtype=object)"
            ]
          },
          "metadata": {},
          "execution_count": 22
        }
      ]
    },
    {
      "cell_type": "code",
      "metadata": {
        "colab": {
          "base_uri": "https://localhost:8080/"
        },
        "id": "lKC_W_g-HUnu",
        "outputId": "857d3fa0-f5fd-4631-e8a0-7b6ab5c8bb8c"
      },
      "source": [
        "route[route['type'].isna()].shape"
      ],
      "execution_count": 23,
      "outputs": [
        {
          "output_type": "execute_result",
          "data": {
            "text/plain": [
              "(0, 8)"
            ]
          },
          "metadata": {},
          "execution_count": 23
        }
      ]
    },
    {
      "cell_type": "code",
      "metadata": {
        "id": "bnh026gzHYln"
      },
      "source": [
        "# 의견 (*) : 카테고리 구분. 하이카디널리티 처리할 때 좋을 듯\n",
        "## categories\n",
        "\n",
        "leisure = ['library', 'theater', 'cafe', 'bakery', 'beauty_salon',\n",
        "          'pc_cafe', 'billiards','restaurant', 'bar', 'karaoke']\n",
        "travel = ['airport', 'lodging']\n",
        "essential_edu = ['primary_school', 'school', 'university']\n",
        "non_essential_edu = ['academy']\n",
        "exercise = ['gym', 'mountain', 'park']\n",
        "essential_admin = ['administrative_area_level_1', 'governmnet_office', 'post_office']\n",
        "non_essential_admin = ['police_office', 'bank', 'real_estate_agency']\n",
        "necessity = ['store', 'public_transportation', 'gas_station']\n",
        "medical = ['hospital', 'pharmacy']\n",
        "church = ['church']\n",
        "etc = ['etc']"
      ],
      "execution_count": 24,
      "outputs": []
    },
    {
      "cell_type": "code",
      "metadata": {
        "colab": {
          "base_uri": "https://localhost:8080/",
          "height": 206
        },
        "id": "nxnz8NbuIGUS",
        "outputId": "8e58ea2e-22a7-4643-d4d8-202922fce376"
      },
      "source": [
        "# 의견 : 필수 방문 처리. 데이터 전처리 자세함\n",
        "essential = essential_edu + essential_admin + necessity + medical\n",
        "\n",
        "def type_group_essen(x):\n",
        "  group = None\n",
        "  if x in essential:\n",
        "    group = 'essential'\n",
        "  else:\n",
        "    group = 'non-essential'\n",
        "  return group\n",
        "\n",
        "route['route_group_essential'] = route['type'].apply(lambda x: type_group_essen(x))\n",
        "route = route[['patient_id','type', 'route_group_essential']]\n",
        "route.head()"
      ],
      "execution_count": 28,
      "outputs": [
        {
          "output_type": "execute_result",
          "data": {
            "text/html": [
              "<div>\n",
              "<style scoped>\n",
              "    .dataframe tbody tr th:only-of-type {\n",
              "        vertical-align: middle;\n",
              "    }\n",
              "\n",
              "    .dataframe tbody tr th {\n",
              "        vertical-align: top;\n",
              "    }\n",
              "\n",
              "    .dataframe thead th {\n",
              "        text-align: right;\n",
              "    }\n",
              "</style>\n",
              "<table border=\"1\" class=\"dataframe\">\n",
              "  <thead>\n",
              "    <tr style=\"text-align: right;\">\n",
              "      <th></th>\n",
              "      <th>patient_id</th>\n",
              "      <th>type</th>\n",
              "      <th>route_group_essential</th>\n",
              "    </tr>\n",
              "  </thead>\n",
              "  <tbody>\n",
              "    <tr>\n",
              "      <th>0</th>\n",
              "      <td>1000000001</td>\n",
              "      <td>airport</td>\n",
              "      <td>non-essential</td>\n",
              "    </tr>\n",
              "    <tr>\n",
              "      <th>1</th>\n",
              "      <td>1000000001</td>\n",
              "      <td>hospital</td>\n",
              "      <td>essential</td>\n",
              "    </tr>\n",
              "    <tr>\n",
              "      <th>2</th>\n",
              "      <td>1000000002</td>\n",
              "      <td>etc</td>\n",
              "      <td>non-essential</td>\n",
              "    </tr>\n",
              "    <tr>\n",
              "      <th>3</th>\n",
              "      <td>1000000002</td>\n",
              "      <td>store</td>\n",
              "      <td>essential</td>\n",
              "    </tr>\n",
              "    <tr>\n",
              "      <th>4</th>\n",
              "      <td>1000000002</td>\n",
              "      <td>public_transportation</td>\n",
              "      <td>essential</td>\n",
              "    </tr>\n",
              "  </tbody>\n",
              "</table>\n",
              "</div>"
            ],
            "text/plain": [
              "   patient_id                   type route_group_essential\n",
              "0  1000000001                airport         non-essential\n",
              "1  1000000001               hospital             essential\n",
              "2  1000000002                    etc         non-essential\n",
              "3  1000000002                  store             essential\n",
              "4  1000000002  public_transportation             essential"
            ]
          },
          "metadata": {},
          "execution_count": 28
        }
      ]
    },
    {
      "cell_type": "code",
      "metadata": {
        "colab": {
          "base_uri": "https://localhost:8080/",
          "height": 454
        },
        "id": "EQ9afsYrJ2YR",
        "outputId": "205e8036-7d07-446d-bb0a-eb484d346cad"
      },
      "source": [
        "# 질문 : unstack\n",
        "route['route_value'] = 1\n",
        "g = pd.DataFrame(route.groupby(['patient_id', 'route_group_essential'])['route_value'].count().unstack())\n",
        "g"
      ],
      "execution_count": 29,
      "outputs": [
        {
          "output_type": "execute_result",
          "data": {
            "text/html": [
              "<div>\n",
              "<style scoped>\n",
              "    .dataframe tbody tr th:only-of-type {\n",
              "        vertical-align: middle;\n",
              "    }\n",
              "\n",
              "    .dataframe tbody tr th {\n",
              "        vertical-align: top;\n",
              "    }\n",
              "\n",
              "    .dataframe thead th {\n",
              "        text-align: right;\n",
              "    }\n",
              "</style>\n",
              "<table border=\"1\" class=\"dataframe\">\n",
              "  <thead>\n",
              "    <tr style=\"text-align: right;\">\n",
              "      <th>route_group_essential</th>\n",
              "      <th>essential</th>\n",
              "      <th>non-essential</th>\n",
              "    </tr>\n",
              "    <tr>\n",
              "      <th>patient_id</th>\n",
              "      <th></th>\n",
              "      <th></th>\n",
              "    </tr>\n",
              "  </thead>\n",
              "  <tbody>\n",
              "    <tr>\n",
              "      <th>1000000001</th>\n",
              "      <td>1.00</td>\n",
              "      <td>1.00</td>\n",
              "    </tr>\n",
              "    <tr>\n",
              "      <th>1000000002</th>\n",
              "      <td>9.00</td>\n",
              "      <td>4.00</td>\n",
              "    </tr>\n",
              "    <tr>\n",
              "      <th>1000000003</th>\n",
              "      <td>nan</td>\n",
              "      <td>2.00</td>\n",
              "    </tr>\n",
              "    <tr>\n",
              "      <th>1000000004</th>\n",
              "      <td>1.00</td>\n",
              "      <td>nan</td>\n",
              "    </tr>\n",
              "    <tr>\n",
              "      <th>1000000005</th>\n",
              "      <td>1.00</td>\n",
              "      <td>nan</td>\n",
              "    </tr>\n",
              "    <tr>\n",
              "      <th>...</th>\n",
              "      <td>...</td>\n",
              "      <td>...</td>\n",
              "    </tr>\n",
              "    <tr>\n",
              "      <th>6100000086</th>\n",
              "      <td>2.00</td>\n",
              "      <td>2.00</td>\n",
              "    </tr>\n",
              "    <tr>\n",
              "      <th>6100000087</th>\n",
              "      <td>6.00</td>\n",
              "      <td>2.00</td>\n",
              "    </tr>\n",
              "    <tr>\n",
              "      <th>6100000088</th>\n",
              "      <td>5.00</td>\n",
              "      <td>19.00</td>\n",
              "    </tr>\n",
              "    <tr>\n",
              "      <th>6100000089</th>\n",
              "      <td>1.00</td>\n",
              "      <td>1.00</td>\n",
              "    </tr>\n",
              "    <tr>\n",
              "      <th>6100000090</th>\n",
              "      <td>3.00</td>\n",
              "      <td>4.00</td>\n",
              "    </tr>\n",
              "  </tbody>\n",
              "</table>\n",
              "<p>1211 rows × 2 columns</p>\n",
              "</div>"
            ],
            "text/plain": [
              "route_group_essential  essential  non-essential\n",
              "patient_id                                     \n",
              "1000000001                  1.00           1.00\n",
              "1000000002                  9.00           4.00\n",
              "1000000003                   nan           2.00\n",
              "1000000004                  1.00            nan\n",
              "1000000005                  1.00            nan\n",
              "...                          ...            ...\n",
              "6100000086                  2.00           2.00\n",
              "6100000087                  6.00           2.00\n",
              "6100000088                  5.00          19.00\n",
              "6100000089                  1.00           1.00\n",
              "6100000090                  3.00           4.00\n",
              "\n",
              "[1211 rows x 2 columns]"
            ]
          },
          "metadata": {},
          "execution_count": 29
        }
      ]
    },
    {
      "cell_type": "code",
      "metadata": {
        "colab": {
          "base_uri": "https://localhost:8080/",
          "height": 206
        },
        "id": "K2XF2EJWKcRX",
        "outputId": "4c099c97-3f84-4085-c8fe-418082c083bb"
      },
      "source": [
        "g.fillna(0, inplace = True)\n",
        "g.reset_index(inplace = True)\n",
        "g = g[['patient_id', 'essential', 'non-essential']]\n",
        "g.head()"
      ],
      "execution_count": 30,
      "outputs": [
        {
          "output_type": "execute_result",
          "data": {
            "text/html": [
              "<div>\n",
              "<style scoped>\n",
              "    .dataframe tbody tr th:only-of-type {\n",
              "        vertical-align: middle;\n",
              "    }\n",
              "\n",
              "    .dataframe tbody tr th {\n",
              "        vertical-align: top;\n",
              "    }\n",
              "\n",
              "    .dataframe thead th {\n",
              "        text-align: right;\n",
              "    }\n",
              "</style>\n",
              "<table border=\"1\" class=\"dataframe\">\n",
              "  <thead>\n",
              "    <tr style=\"text-align: right;\">\n",
              "      <th>route_group_essential</th>\n",
              "      <th>patient_id</th>\n",
              "      <th>essential</th>\n",
              "      <th>non-essential</th>\n",
              "    </tr>\n",
              "  </thead>\n",
              "  <tbody>\n",
              "    <tr>\n",
              "      <th>0</th>\n",
              "      <td>1000000001</td>\n",
              "      <td>1.00</td>\n",
              "      <td>1.00</td>\n",
              "    </tr>\n",
              "    <tr>\n",
              "      <th>1</th>\n",
              "      <td>1000000002</td>\n",
              "      <td>9.00</td>\n",
              "      <td>4.00</td>\n",
              "    </tr>\n",
              "    <tr>\n",
              "      <th>2</th>\n",
              "      <td>1000000003</td>\n",
              "      <td>0.00</td>\n",
              "      <td>2.00</td>\n",
              "    </tr>\n",
              "    <tr>\n",
              "      <th>3</th>\n",
              "      <td>1000000004</td>\n",
              "      <td>1.00</td>\n",
              "      <td>0.00</td>\n",
              "    </tr>\n",
              "    <tr>\n",
              "      <th>4</th>\n",
              "      <td>1000000005</td>\n",
              "      <td>1.00</td>\n",
              "      <td>0.00</td>\n",
              "    </tr>\n",
              "  </tbody>\n",
              "</table>\n",
              "</div>"
            ],
            "text/plain": [
              "route_group_essential  patient_id  essential  non-essential\n",
              "0                      1000000001       1.00           1.00\n",
              "1                      1000000002       9.00           4.00\n",
              "2                      1000000003       0.00           2.00\n",
              "3                      1000000004       1.00           0.00\n",
              "4                      1000000005       1.00           0.00"
            ]
          },
          "metadata": {},
          "execution_count": 30
        }
      ]
    },
    {
      "cell_type": "code",
      "metadata": {
        "colab": {
          "base_uri": "https://localhost:8080/",
          "height": 313
        },
        "id": "8FoQv50dK9Lc",
        "outputId": "16e22c5e-566d-461e-f754-2dc724ab1425"
      },
      "source": [
        "data = data.merge(g, left_on = 'patient_id', right_on = 'patient_id', how = 'left')\n",
        "data.head()"
      ],
      "execution_count": 31,
      "outputs": [
        {
          "output_type": "execute_result",
          "data": {
            "text/html": [
              "<div>\n",
              "<style scoped>\n",
              "    .dataframe tbody tr th:only-of-type {\n",
              "        vertical-align: middle;\n",
              "    }\n",
              "\n",
              "    .dataframe tbody tr th {\n",
              "        vertical-align: top;\n",
              "    }\n",
              "\n",
              "    .dataframe thead th {\n",
              "        text-align: right;\n",
              "    }\n",
              "</style>\n",
              "<table border=\"1\" class=\"dataframe\">\n",
              "  <thead>\n",
              "    <tr style=\"text-align: right;\">\n",
              "      <th></th>\n",
              "      <th>patient_id</th>\n",
              "      <th>global_num</th>\n",
              "      <th>sex</th>\n",
              "      <th>birth_year</th>\n",
              "      <th>age</th>\n",
              "      <th>country</th>\n",
              "      <th>province</th>\n",
              "      <th>city</th>\n",
              "      <th>disease</th>\n",
              "      <th>infection_case</th>\n",
              "      <th>infection_order</th>\n",
              "      <th>infected_by</th>\n",
              "      <th>contact_number</th>\n",
              "      <th>symptom_onset_date</th>\n",
              "      <th>confirmed_date</th>\n",
              "      <th>released_date</th>\n",
              "      <th>deceased_date</th>\n",
              "      <th>state</th>\n",
              "      <th>infection</th>\n",
              "      <th>essential</th>\n",
              "      <th>non-essential</th>\n",
              "    </tr>\n",
              "  </thead>\n",
              "  <tbody>\n",
              "    <tr>\n",
              "      <th>0</th>\n",
              "      <td>1000000001</td>\n",
              "      <td>2.00</td>\n",
              "      <td>male</td>\n",
              "      <td>1964.00</td>\n",
              "      <td>50s</td>\n",
              "      <td>Korea</td>\n",
              "      <td>Seoul</td>\n",
              "      <td>Gangseo-gu</td>\n",
              "      <td>NaN</td>\n",
              "      <td>overseas inflow</td>\n",
              "      <td>1.00</td>\n",
              "      <td>nan</td>\n",
              "      <td>75.00</td>\n",
              "      <td>2020-01-22</td>\n",
              "      <td>2020-01-23</td>\n",
              "      <td>2020-02-05</td>\n",
              "      <td>NaN</td>\n",
              "      <td>released</td>\n",
              "      <td>overseas</td>\n",
              "      <td>1.00</td>\n",
              "      <td>1.00</td>\n",
              "    </tr>\n",
              "    <tr>\n",
              "      <th>1</th>\n",
              "      <td>1000000002</td>\n",
              "      <td>5.00</td>\n",
              "      <td>male</td>\n",
              "      <td>1987.00</td>\n",
              "      <td>30s</td>\n",
              "      <td>Korea</td>\n",
              "      <td>Seoul</td>\n",
              "      <td>Jungnang-gu</td>\n",
              "      <td>NaN</td>\n",
              "      <td>overseas inflow</td>\n",
              "      <td>1.00</td>\n",
              "      <td>nan</td>\n",
              "      <td>31.00</td>\n",
              "      <td>NaN</td>\n",
              "      <td>2020-01-30</td>\n",
              "      <td>2020-03-02</td>\n",
              "      <td>NaN</td>\n",
              "      <td>released</td>\n",
              "      <td>overseas</td>\n",
              "      <td>9.00</td>\n",
              "      <td>4.00</td>\n",
              "    </tr>\n",
              "    <tr>\n",
              "      <th>2</th>\n",
              "      <td>1000000003</td>\n",
              "      <td>6.00</td>\n",
              "      <td>male</td>\n",
              "      <td>1964.00</td>\n",
              "      <td>50s</td>\n",
              "      <td>Korea</td>\n",
              "      <td>Seoul</td>\n",
              "      <td>Jongno-gu</td>\n",
              "      <td>NaN</td>\n",
              "      <td>contact with patient</td>\n",
              "      <td>2.00</td>\n",
              "      <td>2002000001.00</td>\n",
              "      <td>17.00</td>\n",
              "      <td>NaN</td>\n",
              "      <td>2020-01-30</td>\n",
              "      <td>2020-02-19</td>\n",
              "      <td>NaN</td>\n",
              "      <td>released</td>\n",
              "      <td>individual</td>\n",
              "      <td>0.00</td>\n",
              "      <td>2.00</td>\n",
              "    </tr>\n",
              "    <tr>\n",
              "      <th>3</th>\n",
              "      <td>1000000004</td>\n",
              "      <td>7.00</td>\n",
              "      <td>male</td>\n",
              "      <td>1991.00</td>\n",
              "      <td>20s</td>\n",
              "      <td>Korea</td>\n",
              "      <td>Seoul</td>\n",
              "      <td>Mapo-gu</td>\n",
              "      <td>NaN</td>\n",
              "      <td>overseas inflow</td>\n",
              "      <td>1.00</td>\n",
              "      <td>nan</td>\n",
              "      <td>9.00</td>\n",
              "      <td>2020-01-26</td>\n",
              "      <td>2020-01-30</td>\n",
              "      <td>2020-02-15</td>\n",
              "      <td>NaN</td>\n",
              "      <td>released</td>\n",
              "      <td>overseas</td>\n",
              "      <td>1.00</td>\n",
              "      <td>0.00</td>\n",
              "    </tr>\n",
              "    <tr>\n",
              "      <th>4</th>\n",
              "      <td>1000000005</td>\n",
              "      <td>9.00</td>\n",
              "      <td>female</td>\n",
              "      <td>1992.00</td>\n",
              "      <td>20s</td>\n",
              "      <td>Korea</td>\n",
              "      <td>Seoul</td>\n",
              "      <td>Seongbuk-gu</td>\n",
              "      <td>NaN</td>\n",
              "      <td>contact with patient</td>\n",
              "      <td>2.00</td>\n",
              "      <td>1000000002.00</td>\n",
              "      <td>2.00</td>\n",
              "      <td>NaN</td>\n",
              "      <td>2020-01-31</td>\n",
              "      <td>2020-02-24</td>\n",
              "      <td>NaN</td>\n",
              "      <td>released</td>\n",
              "      <td>individual</td>\n",
              "      <td>1.00</td>\n",
              "      <td>0.00</td>\n",
              "    </tr>\n",
              "  </tbody>\n",
              "</table>\n",
              "</div>"
            ],
            "text/plain": [
              "   patient_id  global_num     sex  ...   infection essential non-essential\n",
              "0  1000000001        2.00    male  ...    overseas      1.00          1.00\n",
              "1  1000000002        5.00    male  ...    overseas      9.00          4.00\n",
              "2  1000000003        6.00    male  ...  individual      0.00          2.00\n",
              "3  1000000004        7.00    male  ...    overseas      1.00          0.00\n",
              "4  1000000005        9.00  female  ...  individual      1.00          0.00\n",
              "\n",
              "[5 rows x 21 columns]"
            ]
          },
          "metadata": {},
          "execution_count": 31
        }
      ]
    },
    {
      "cell_type": "code",
      "metadata": {
        "colab": {
          "base_uri": "https://localhost:8080/"
        },
        "id": "cVsW18VTLPhF",
        "outputId": "63a55788-0153-469b-d709-f2b108a8fe78"
      },
      "source": [
        "print(data.shape)\n",
        "data[(data['essential'].isna()) | (data['non-essential'].isna())].shape"
      ],
      "execution_count": 32,
      "outputs": [
        {
          "output_type": "stream",
          "name": "stdout",
          "text": [
            "(3374, 21)\n"
          ]
        },
        {
          "output_type": "execute_result",
          "data": {
            "text/plain": [
              "(2170, 21)"
            ]
          },
          "metadata": {},
          "execution_count": 32
        }
      ]
    },
    {
      "cell_type": "code",
      "metadata": {
        "colab": {
          "base_uri": "https://localhost:8080/"
        },
        "id": "ijWtjPQBLiw1",
        "outputId": "3018d2b8-361b-47dc-cb44-80fe547bf40e"
      },
      "source": [
        "# 방법 :  근거가 없는 데이터는 판단하지 않고 삭제, notna()\n",
        "print('original data shape:', data.shape)\n",
        "data = data[(data['essential'].notna()) & (data['non-essential'].notna())] \n",
        "print('data shape after removing missing values in essentail/non-essential:', data.shape)"
      ],
      "execution_count": 33,
      "outputs": [
        {
          "output_type": "stream",
          "name": "stdout",
          "text": [
            "original data shape: (3374, 21)\n",
            "data shape after removing missing values in essentail/non-essential: (1204, 21)\n"
          ]
        }
      ]
    },
    {
      "cell_type": "markdown",
      "metadata": {
        "id": "6Lh671AnL-k0"
      },
      "source": [
        "## 1.3. 접촉 정도"
      ]
    },
    {
      "cell_type": "code",
      "metadata": {
        "colab": {
          "base_uri": "https://localhost:8080/",
          "height": 280
        },
        "id": "5KnDjr7GL9tm",
        "outputId": "40b7f350-0487-4574-8250-efcb725be2a0"
      },
      "source": [
        "sns.distplot(data['contact_number'])\n",
        "display()"
      ],
      "execution_count": 34,
      "outputs": [
        {
          "output_type": "display_data",
          "data": {
            "image/png": "[encoded data removed]",
            "text/plain": [
              "<Figure size 432x288 with 1 Axes>"
            ]
          },
          "metadata": {
            "needs_background": "light"
          }
        }
      ]
    },
    {
      "cell_type": "code",
      "metadata": {
        "colab": {
          "base_uri": "https://localhost:8080/"
        },
        "id": "2O3Uby4FMPHn",
        "outputId": "d93797b7-16ef-4b64-e80c-cb0d53c99b25"
      },
      "source": [
        "# 질문 : 접촉이 많은 사람일수록 상대적으로 훨씬 많은 접촉 -> 75%의 값이 훨씬 더 큼?\n",
        "data['contact_number'].describe()"
      ],
      "execution_count": 35,
      "outputs": [
        {
          "output_type": "execute_result",
          "data": {
            "text/plain": [
              "count    332.00\n",
              "mean      24.27\n",
              "std       95.07\n",
              "min        0.00\n",
              "25%        2.00\n",
              "50%        5.00\n",
              "75%       17.25\n",
              "max     1160.00\n",
              "Name: contact_number, dtype: float64"
            ]
          },
          "metadata": {},
          "execution_count": 35
        }
      ]
    },
    {
      "cell_type": "code",
      "metadata": {
        "colab": {
          "base_uri": "https://localhost:8080/",
          "height": 135
        },
        "id": "0M7-bky1MqM7",
        "outputId": "25d90dca-90ec-4cdd-85d5-3d75fb509fe3"
      },
      "source": [
        "# 의견 : 집단감염의 사례였을 가능성이 있음 outlier 판단 x\n",
        "# 코로나 바이러스 확산 초창기 확진자 수를 기하급수적으로 늘리는데 기여한 '31번 확진자'\n",
        "data[data['contact_number'] == 1160]"
      ],
      "execution_count": 36,
      "outputs": [
        {
          "output_type": "execute_result",
          "data": {
            "text/html": [
              "<div>\n",
              "<style scoped>\n",
              "    .dataframe tbody tr th:only-of-type {\n",
              "        vertical-align: middle;\n",
              "    }\n",
              "\n",
              "    .dataframe tbody tr th {\n",
              "        vertical-align: top;\n",
              "    }\n",
              "\n",
              "    .dataframe thead th {\n",
              "        text-align: right;\n",
              "    }\n",
              "</style>\n",
              "<table border=\"1\" class=\"dataframe\">\n",
              "  <thead>\n",
              "    <tr style=\"text-align: right;\">\n",
              "      <th></th>\n",
              "      <th>patient_id</th>\n",
              "      <th>global_num</th>\n",
              "      <th>sex</th>\n",
              "      <th>birth_year</th>\n",
              "      <th>age</th>\n",
              "      <th>country</th>\n",
              "      <th>province</th>\n",
              "      <th>city</th>\n",
              "      <th>disease</th>\n",
              "      <th>infection_case</th>\n",
              "      <th>infection_order</th>\n",
              "      <th>infected_by</th>\n",
              "      <th>contact_number</th>\n",
              "      <th>symptom_onset_date</th>\n",
              "      <th>confirmed_date</th>\n",
              "      <th>released_date</th>\n",
              "      <th>deceased_date</th>\n",
              "      <th>state</th>\n",
              "      <th>infection</th>\n",
              "      <th>essential</th>\n",
              "      <th>non-essential</th>\n",
              "    </tr>\n",
              "  </thead>\n",
              "  <tbody>\n",
              "    <tr>\n",
              "      <th>764</th>\n",
              "      <td>1200000031</td>\n",
              "      <td>31.00</td>\n",
              "      <td>female</td>\n",
              "      <td>1959.00</td>\n",
              "      <td>60s</td>\n",
              "      <td>Korea</td>\n",
              "      <td>Daegu</td>\n",
              "      <td>NaN</td>\n",
              "      <td>NaN</td>\n",
              "      <td>Shincheonji Church</td>\n",
              "      <td>nan</td>\n",
              "      <td>nan</td>\n",
              "      <td>1160.00</td>\n",
              "      <td>NaN</td>\n",
              "      <td>2020-02-18</td>\n",
              "      <td>NaN</td>\n",
              "      <td>NaN</td>\n",
              "      <td>isolated</td>\n",
              "      <td>group</td>\n",
              "      <td>11.00</td>\n",
              "      <td>5.00</td>\n",
              "    </tr>\n",
              "  </tbody>\n",
              "</table>\n",
              "</div>"
            ],
            "text/plain": [
              "     patient_id  global_num     sex  ...  infection essential non-essential\n",
              "764  1200000031       31.00  female  ...      group     11.00          5.00\n",
              "\n",
              "[1 rows x 21 columns]"
            ]
          },
          "metadata": {},
          "execution_count": 36
        }
      ]
    },
    {
      "cell_type": "code",
      "metadata": {
        "colab": {
          "base_uri": "https://localhost:8080/"
        },
        "id": "2L53fftUNRpD",
        "outputId": "a645aebd-2ef8-4714-9011-e7ff3bc586c8"
      },
      "source": [
        "# 접촉 횟수의 값이 없는 사람들은 모두 제거\n",
        "print('original data shape:', data.shape)\n",
        "data = data[data['contact_number'].notna()]\n",
        "print('data shape after removing missing values in contact_number:', data.shape)"
      ],
      "execution_count": 37,
      "outputs": [
        {
          "output_type": "stream",
          "name": "stdout",
          "text": [
            "original data shape: (1204, 21)\n",
            "data shape after removing missing values in contact_number: (332, 21)\n"
          ]
        }
      ]
    },
    {
      "cell_type": "markdown",
      "metadata": {
        "id": "lUgY4nFXOL3N"
      },
      "source": [
        "## 1.4. 확진받기까지 걸린 시간"
      ]
    },
    {
      "cell_type": "code",
      "metadata": {
        "colab": {
          "base_uri": "https://localhost:8080/"
        },
        "id": "2rJ_D9aIODOx",
        "outputId": "1ee680d2-9d7d-4c39-ad52-ddacee384639"
      },
      "source": [
        "# 증상이 처음 시작된 날(symptom_onset_date), 확진 날짜(confirmed_date)\n",
        "print('data shape:', data.shape)\n",
        "print('missing values in symptom_onset_date:', data[data['symptom_onset_date'].isna()].shape)\n",
        "print('missing values in confirmed_date:', data[data['confirmed_date'].isna()].shape)"
      ],
      "execution_count": 38,
      "outputs": [
        {
          "output_type": "stream",
          "name": "stdout",
          "text": [
            "data shape: (332, 21)\n",
            "missing values in symptom_onset_date: (208, 21)\n",
            "missing values in confirmed_date: (0, 21)\n"
          ]
        }
      ]
    },
    {
      "cell_type": "code",
      "metadata": {
        "colab": {
          "base_uri": "https://localhost:8080/"
        },
        "id": "HwUO1-sHO-eR",
        "outputId": "34880482-5030-4e59-bd2a-4cc065bffd78"
      },
      "source": [
        "# 질문 : 왜 이런식으로 만드는지\n",
        "# 증상이 발현한 날짜의 정보가 없는 확진자들은 모두 제거\n",
        "data[data['symptom_onset_date'] == ' ']\n",
        "data['symptom_onset_date'] = np.where((data['symptom_onset_date'] == ' '), None, data['symptom_onset_date'])\n",
        "\n",
        "print('original data shape: ', data.shape)\n",
        "data = data[data['symptom_onset_date'].notna()]\n",
        "print('data excluding missing values in symptom_onset_date: ', data.shape)"
      ],
      "execution_count": 41,
      "outputs": [
        {
          "output_type": "stream",
          "name": "stdout",
          "text": [
            "original data shape:  (332, 21)\n",
            "data excluding missing values in symptom_onset_date:  (124, 21)\n"
          ]
        }
      ]
    },
    {
      "cell_type": "code",
      "metadata": {
        "id": "EmigJP-FPmSO"
      },
      "source": [
        "# 방법 : 문자열 -> datetime 객체로 만듦 strptime()\n",
        "# 확진받기까지의 시간\n",
        "def convert_date(x):\n",
        "    x = pd.datetime.strptime(x, '%Y-%m-%d').date()\n",
        "    return x"
      ],
      "execution_count": 42,
      "outputs": []
    },
    {
      "cell_type": "code",
      "metadata": {
        "colab": {
          "base_uri": "https://localhost:8080/",
          "height": 215
        },
        "id": "GVBZWl2vQ83O",
        "outputId": "76489c13-9c3d-49f6-8bbc-9098e10422b4"
      },
      "source": [
        "data['symptom_onset_date'] = data['symptom_onset_date'].apply(lambda x : convert_date(x))\n",
        "data['confirmed_date'] = data['confirmed_date'].apply(lambda x: convert_date(x))\n",
        "\n",
        "data.head(3)"
      ],
      "execution_count": 43,
      "outputs": [
        {
          "output_type": "execute_result",
          "data": {
            "text/html": [
              "<div>\n",
              "<style scoped>\n",
              "    .dataframe tbody tr th:only-of-type {\n",
              "        vertical-align: middle;\n",
              "    }\n",
              "\n",
              "    .dataframe tbody tr th {\n",
              "        vertical-align: top;\n",
              "    }\n",
              "\n",
              "    .dataframe thead th {\n",
              "        text-align: right;\n",
              "    }\n",
              "</style>\n",
              "<table border=\"1\" class=\"dataframe\">\n",
              "  <thead>\n",
              "    <tr style=\"text-align: right;\">\n",
              "      <th></th>\n",
              "      <th>patient_id</th>\n",
              "      <th>global_num</th>\n",
              "      <th>sex</th>\n",
              "      <th>birth_year</th>\n",
              "      <th>age</th>\n",
              "      <th>country</th>\n",
              "      <th>province</th>\n",
              "      <th>city</th>\n",
              "      <th>disease</th>\n",
              "      <th>infection_case</th>\n",
              "      <th>infection_order</th>\n",
              "      <th>infected_by</th>\n",
              "      <th>contact_number</th>\n",
              "      <th>symptom_onset_date</th>\n",
              "      <th>confirmed_date</th>\n",
              "      <th>released_date</th>\n",
              "      <th>deceased_date</th>\n",
              "      <th>state</th>\n",
              "      <th>infection</th>\n",
              "      <th>essential</th>\n",
              "      <th>non-essential</th>\n",
              "    </tr>\n",
              "  </thead>\n",
              "  <tbody>\n",
              "    <tr>\n",
              "      <th>0</th>\n",
              "      <td>1000000001</td>\n",
              "      <td>2.00</td>\n",
              "      <td>male</td>\n",
              "      <td>1964.00</td>\n",
              "      <td>50s</td>\n",
              "      <td>Korea</td>\n",
              "      <td>Seoul</td>\n",
              "      <td>Gangseo-gu</td>\n",
              "      <td>NaN</td>\n",
              "      <td>overseas inflow</td>\n",
              "      <td>1.00</td>\n",
              "      <td>nan</td>\n",
              "      <td>75.00</td>\n",
              "      <td>2020-01-22</td>\n",
              "      <td>2020-01-23</td>\n",
              "      <td>2020-02-05</td>\n",
              "      <td>NaN</td>\n",
              "      <td>released</td>\n",
              "      <td>overseas</td>\n",
              "      <td>1.00</td>\n",
              "      <td>1.00</td>\n",
              "    </tr>\n",
              "    <tr>\n",
              "      <th>3</th>\n",
              "      <td>1000000004</td>\n",
              "      <td>7.00</td>\n",
              "      <td>male</td>\n",
              "      <td>1991.00</td>\n",
              "      <td>20s</td>\n",
              "      <td>Korea</td>\n",
              "      <td>Seoul</td>\n",
              "      <td>Mapo-gu</td>\n",
              "      <td>NaN</td>\n",
              "      <td>overseas inflow</td>\n",
              "      <td>1.00</td>\n",
              "      <td>nan</td>\n",
              "      <td>9.00</td>\n",
              "      <td>2020-01-26</td>\n",
              "      <td>2020-01-30</td>\n",
              "      <td>2020-02-15</td>\n",
              "      <td>NaN</td>\n",
              "      <td>released</td>\n",
              "      <td>overseas</td>\n",
              "      <td>1.00</td>\n",
              "      <td>0.00</td>\n",
              "    </tr>\n",
              "    <tr>\n",
              "      <th>13</th>\n",
              "      <td>1000000014</td>\n",
              "      <td>30.00</td>\n",
              "      <td>female</td>\n",
              "      <td>1952.00</td>\n",
              "      <td>60s</td>\n",
              "      <td>Korea</td>\n",
              "      <td>Seoul</td>\n",
              "      <td>Jongno-gu</td>\n",
              "      <td>NaN</td>\n",
              "      <td>contact with patient</td>\n",
              "      <td>5.00</td>\n",
              "      <td>1000000013.00</td>\n",
              "      <td>27.00</td>\n",
              "      <td>2020-02-06</td>\n",
              "      <td>2020-02-16</td>\n",
              "      <td>2020-03-12</td>\n",
              "      <td>NaN</td>\n",
              "      <td>released</td>\n",
              "      <td>individual</td>\n",
              "      <td>10.00</td>\n",
              "      <td>3.00</td>\n",
              "    </tr>\n",
              "  </tbody>\n",
              "</table>\n",
              "</div>"
            ],
            "text/plain": [
              "    patient_id  global_num     sex  ...   infection essential non-essential\n",
              "0   1000000001        2.00    male  ...    overseas      1.00          1.00\n",
              "3   1000000004        7.00    male  ...    overseas      1.00          0.00\n",
              "13  1000000014       30.00  female  ...  individual     10.00          3.00\n",
              "\n",
              "[3 rows x 21 columns]"
            ]
          },
          "metadata": {},
          "execution_count": 43
        }
      ]
    },
    {
      "cell_type": "code",
      "metadata": {
        "colab": {
          "base_uri": "https://localhost:8080/",
          "height": 215
        },
        "id": "4Ikk1_zPSvct",
        "outputId": "7f93f8f4-edc9-4de7-8c0a-4a2b09d54002"
      },
      "source": [
        "# symptom_onset_date와 confirmed_date 사이의 날짜 차이 'days'\n",
        "data['days_notice'] = data['confirmed_date'] - data['symptom_onset_date'] \n",
        "data['hours_notice'] = data['days_notice'].apply(lambda x: round(x.total_seconds()/3600, 2))\n",
        "data['days'] = data['hours_notice'].apply(lambda x: int(x/24))\n",
        "data.head(3)"
      ],
      "execution_count": 44,
      "outputs": [
        {
          "output_type": "execute_result",
          "data": {
            "text/html": [
              "<div>\n",
              "<style scoped>\n",
              "    .dataframe tbody tr th:only-of-type {\n",
              "        vertical-align: middle;\n",
              "    }\n",
              "\n",
              "    .dataframe tbody tr th {\n",
              "        vertical-align: top;\n",
              "    }\n",
              "\n",
              "    .dataframe thead th {\n",
              "        text-align: right;\n",
              "    }\n",
              "</style>\n",
              "<table border=\"1\" class=\"dataframe\">\n",
              "  <thead>\n",
              "    <tr style=\"text-align: right;\">\n",
              "      <th></th>\n",
              "      <th>patient_id</th>\n",
              "      <th>global_num</th>\n",
              "      <th>sex</th>\n",
              "      <th>birth_year</th>\n",
              "      <th>age</th>\n",
              "      <th>country</th>\n",
              "      <th>province</th>\n",
              "      <th>city</th>\n",
              "      <th>disease</th>\n",
              "      <th>infection_case</th>\n",
              "      <th>infection_order</th>\n",
              "      <th>infected_by</th>\n",
              "      <th>contact_number</th>\n",
              "      <th>symptom_onset_date</th>\n",
              "      <th>confirmed_date</th>\n",
              "      <th>released_date</th>\n",
              "      <th>deceased_date</th>\n",
              "      <th>state</th>\n",
              "      <th>infection</th>\n",
              "      <th>essential</th>\n",
              "      <th>non-essential</th>\n",
              "      <th>days_notice</th>\n",
              "      <th>hours_notice</th>\n",
              "      <th>days</th>\n",
              "    </tr>\n",
              "  </thead>\n",
              "  <tbody>\n",
              "    <tr>\n",
              "      <th>0</th>\n",
              "      <td>1000000001</td>\n",
              "      <td>2.00</td>\n",
              "      <td>male</td>\n",
              "      <td>1964.00</td>\n",
              "      <td>50s</td>\n",
              "      <td>Korea</td>\n",
              "      <td>Seoul</td>\n",
              "      <td>Gangseo-gu</td>\n",
              "      <td>NaN</td>\n",
              "      <td>overseas inflow</td>\n",
              "      <td>1.00</td>\n",
              "      <td>nan</td>\n",
              "      <td>75.00</td>\n",
              "      <td>2020-01-22</td>\n",
              "      <td>2020-01-23</td>\n",
              "      <td>2020-02-05</td>\n",
              "      <td>NaN</td>\n",
              "      <td>released</td>\n",
              "      <td>overseas</td>\n",
              "      <td>1.00</td>\n",
              "      <td>1.00</td>\n",
              "      <td>1 days</td>\n",
              "      <td>24.00</td>\n",
              "      <td>1</td>\n",
              "    </tr>\n",
              "    <tr>\n",
              "      <th>3</th>\n",
              "      <td>1000000004</td>\n",
              "      <td>7.00</td>\n",
              "      <td>male</td>\n",
              "      <td>1991.00</td>\n",
              "      <td>20s</td>\n",
              "      <td>Korea</td>\n",
              "      <td>Seoul</td>\n",
              "      <td>Mapo-gu</td>\n",
              "      <td>NaN</td>\n",
              "      <td>overseas inflow</td>\n",
              "      <td>1.00</td>\n",
              "      <td>nan</td>\n",
              "      <td>9.00</td>\n",
              "      <td>2020-01-26</td>\n",
              "      <td>2020-01-30</td>\n",
              "      <td>2020-02-15</td>\n",
              "      <td>NaN</td>\n",
              "      <td>released</td>\n",
              "      <td>overseas</td>\n",
              "      <td>1.00</td>\n",
              "      <td>0.00</td>\n",
              "      <td>4 days</td>\n",
              "      <td>96.00</td>\n",
              "      <td>4</td>\n",
              "    </tr>\n",
              "    <tr>\n",
              "      <th>13</th>\n",
              "      <td>1000000014</td>\n",
              "      <td>30.00</td>\n",
              "      <td>female</td>\n",
              "      <td>1952.00</td>\n",
              "      <td>60s</td>\n",
              "      <td>Korea</td>\n",
              "      <td>Seoul</td>\n",
              "      <td>Jongno-gu</td>\n",
              "      <td>NaN</td>\n",
              "      <td>contact with patient</td>\n",
              "      <td>5.00</td>\n",
              "      <td>1000000013.00</td>\n",
              "      <td>27.00</td>\n",
              "      <td>2020-02-06</td>\n",
              "      <td>2020-02-16</td>\n",
              "      <td>2020-03-12</td>\n",
              "      <td>NaN</td>\n",
              "      <td>released</td>\n",
              "      <td>individual</td>\n",
              "      <td>10.00</td>\n",
              "      <td>3.00</td>\n",
              "      <td>10 days</td>\n",
              "      <td>240.00</td>\n",
              "      <td>10</td>\n",
              "    </tr>\n",
              "  </tbody>\n",
              "</table>\n",
              "</div>"
            ],
            "text/plain": [
              "    patient_id  global_num     sex  ...  days_notice hours_notice days\n",
              "0   1000000001        2.00    male  ...       1 days        24.00    1\n",
              "3   1000000004        7.00    male  ...       4 days        96.00    4\n",
              "13  1000000014       30.00  female  ...      10 days       240.00   10\n",
              "\n",
              "[3 rows x 24 columns]"
            ]
          },
          "metadata": {},
          "execution_count": 44
        }
      ]
    },
    {
      "cell_type": "markdown",
      "metadata": {
        "id": "lUU_cUGcTBRR"
      },
      "source": [
        "# 2. Building cluster model\n",
        "## 2.1. Feature transformation"
      ]
    },
    {
      "cell_type": "code",
      "metadata": {
        "colab": {
          "base_uri": "https://localhost:8080/",
          "height": 224
        },
        "id": "-10tpfoUTAIW",
        "outputId": "85e6ff3c-060d-4b09-b142-4b83fcac39ad"
      },
      "source": [
        "# 행동 특성 추출 클러스터 모델\n",
        "data_ = data[['patient_id', \n",
        "              'days', \n",
        "              'contact_number', \n",
        "              'essential', 'non-essential', \n",
        "              'infection']]\n",
        "data_.reset_index(drop = True, inplace = True)\n",
        "print(data_.shape)\n",
        "data_.head()"
      ],
      "execution_count": 45,
      "outputs": [
        {
          "output_type": "stream",
          "name": "stdout",
          "text": [
            "(124, 6)\n"
          ]
        },
        {
          "output_type": "execute_result",
          "data": {
            "text/html": [
              "<div>\n",
              "<style scoped>\n",
              "    .dataframe tbody tr th:only-of-type {\n",
              "        vertical-align: middle;\n",
              "    }\n",
              "\n",
              "    .dataframe tbody tr th {\n",
              "        vertical-align: top;\n",
              "    }\n",
              "\n",
              "    .dataframe thead th {\n",
              "        text-align: right;\n",
              "    }\n",
              "</style>\n",
              "<table border=\"1\" class=\"dataframe\">\n",
              "  <thead>\n",
              "    <tr style=\"text-align: right;\">\n",
              "      <th></th>\n",
              "      <th>patient_id</th>\n",
              "      <th>days</th>\n",
              "      <th>contact_number</th>\n",
              "      <th>essential</th>\n",
              "      <th>non-essential</th>\n",
              "      <th>infection</th>\n",
              "    </tr>\n",
              "  </thead>\n",
              "  <tbody>\n",
              "    <tr>\n",
              "      <th>0</th>\n",
              "      <td>1000000001</td>\n",
              "      <td>1</td>\n",
              "      <td>75.00</td>\n",
              "      <td>1.00</td>\n",
              "      <td>1.00</td>\n",
              "      <td>overseas</td>\n",
              "    </tr>\n",
              "    <tr>\n",
              "      <th>1</th>\n",
              "      <td>1000000004</td>\n",
              "      <td>4</td>\n",
              "      <td>9.00</td>\n",
              "      <td>1.00</td>\n",
              "      <td>0.00</td>\n",
              "      <td>overseas</td>\n",
              "    </tr>\n",
              "    <tr>\n",
              "      <th>2</th>\n",
              "      <td>1000000014</td>\n",
              "      <td>10</td>\n",
              "      <td>27.00</td>\n",
              "      <td>10.00</td>\n",
              "      <td>3.00</td>\n",
              "      <td>individual</td>\n",
              "    </tr>\n",
              "    <tr>\n",
              "      <th>3</th>\n",
              "      <td>1000000015</td>\n",
              "      <td>8</td>\n",
              "      <td>8.00</td>\n",
              "      <td>6.00</td>\n",
              "      <td>3.00</td>\n",
              "      <td>group</td>\n",
              "    </tr>\n",
              "    <tr>\n",
              "      <th>4</th>\n",
              "      <td>1000000302</td>\n",
              "      <td>1</td>\n",
              "      <td>8.00</td>\n",
              "      <td>1.00</td>\n",
              "      <td>0.00</td>\n",
              "      <td>overseas</td>\n",
              "    </tr>\n",
              "  </tbody>\n",
              "</table>\n",
              "</div>"
            ],
            "text/plain": [
              "   patient_id  days  contact_number  essential  non-essential   infection\n",
              "0  1000000001     1           75.00       1.00           1.00    overseas\n",
              "1  1000000004     4            9.00       1.00           0.00    overseas\n",
              "2  1000000014    10           27.00      10.00           3.00  individual\n",
              "3  1000000015     8            8.00       6.00           3.00       group\n",
              "4  1000000302     1            8.00       1.00           0.00    overseas"
            ]
          },
          "metadata": {},
          "execution_count": 45
        }
      ]
    },
    {
      "cell_type": "markdown",
      "metadata": {
        "id": "Uw56DvLKTYp4"
      },
      "source": [
        "### 2.1.2.transformation of categorical variable"
      ]
    },
    {
      "cell_type": "code",
      "metadata": {
        "colab": {
          "base_uri": "https://localhost:8080/",
          "height": 262
        },
        "id": "TX4MLjv9TWfP",
        "outputId": "52ac8f9d-73cd-447c-a331-9cc0180db812"
      },
      "source": [
        "# 질문 : 왜 이렇게 만들지... reshape()\n",
        "# 감염 경로 유형 numeric 변수로 원핫인코딩\n",
        "encoder = OneHotEncoder(categories = 'auto', sparse=False)\n",
        "encoder.fit(np.array(data_['infection']).reshape(-1, 1))\n",
        "inf_dummies = encoder.transform(np.array(data_['infection']).reshape(-1, 1))\n",
        "dummies = pd.DataFrame(inf_dummies.astype(int), columns = ['infection_' + x for x in encoder.categories_[0]])\n",
        "\n",
        "data_ = data_.join(dummies)\n",
        "print(data_.shape)\n",
        "data_.head()"
      ],
      "execution_count": 46,
      "outputs": [
        {
          "output_type": "stream",
          "name": "stdout",
          "text": [
            "(124, 10)\n"
          ]
        },
        {
          "output_type": "execute_result",
          "data": {
            "text/html": [
              "<div>\n",
              "<style scoped>\n",
              "    .dataframe tbody tr th:only-of-type {\n",
              "        vertical-align: middle;\n",
              "    }\n",
              "\n",
              "    .dataframe tbody tr th {\n",
              "        vertical-align: top;\n",
              "    }\n",
              "\n",
              "    .dataframe thead th {\n",
              "        text-align: right;\n",
              "    }\n",
              "</style>\n",
              "<table border=\"1\" class=\"dataframe\">\n",
              "  <thead>\n",
              "    <tr style=\"text-align: right;\">\n",
              "      <th></th>\n",
              "      <th>patient_id</th>\n",
              "      <th>days</th>\n",
              "      <th>contact_number</th>\n",
              "      <th>essential</th>\n",
              "      <th>non-essential</th>\n",
              "      <th>infection</th>\n",
              "      <th>infection_group</th>\n",
              "      <th>infection_individual</th>\n",
              "      <th>infection_overseas</th>\n",
              "      <th>infection_unknown</th>\n",
              "    </tr>\n",
              "  </thead>\n",
              "  <tbody>\n",
              "    <tr>\n",
              "      <th>0</th>\n",
              "      <td>1000000001</td>\n",
              "      <td>1</td>\n",
              "      <td>75.00</td>\n",
              "      <td>1.00</td>\n",
              "      <td>1.00</td>\n",
              "      <td>overseas</td>\n",
              "      <td>0</td>\n",
              "      <td>0</td>\n",
              "      <td>1</td>\n",
              "      <td>0</td>\n",
              "    </tr>\n",
              "    <tr>\n",
              "      <th>1</th>\n",
              "      <td>1000000004</td>\n",
              "      <td>4</td>\n",
              "      <td>9.00</td>\n",
              "      <td>1.00</td>\n",
              "      <td>0.00</td>\n",
              "      <td>overseas</td>\n",
              "      <td>0</td>\n",
              "      <td>0</td>\n",
              "      <td>1</td>\n",
              "      <td>0</td>\n",
              "    </tr>\n",
              "    <tr>\n",
              "      <th>2</th>\n",
              "      <td>1000000014</td>\n",
              "      <td>10</td>\n",
              "      <td>27.00</td>\n",
              "      <td>10.00</td>\n",
              "      <td>3.00</td>\n",
              "      <td>individual</td>\n",
              "      <td>0</td>\n",
              "      <td>1</td>\n",
              "      <td>0</td>\n",
              "      <td>0</td>\n",
              "    </tr>\n",
              "    <tr>\n",
              "      <th>3</th>\n",
              "      <td>1000000015</td>\n",
              "      <td>8</td>\n",
              "      <td>8.00</td>\n",
              "      <td>6.00</td>\n",
              "      <td>3.00</td>\n",
              "      <td>group</td>\n",
              "      <td>1</td>\n",
              "      <td>0</td>\n",
              "      <td>0</td>\n",
              "      <td>0</td>\n",
              "    </tr>\n",
              "    <tr>\n",
              "      <th>4</th>\n",
              "      <td>1000000302</td>\n",
              "      <td>1</td>\n",
              "      <td>8.00</td>\n",
              "      <td>1.00</td>\n",
              "      <td>0.00</td>\n",
              "      <td>overseas</td>\n",
              "      <td>0</td>\n",
              "      <td>0</td>\n",
              "      <td>1</td>\n",
              "      <td>0</td>\n",
              "    </tr>\n",
              "  </tbody>\n",
              "</table>\n",
              "</div>"
            ],
            "text/plain": [
              "   patient_id  days  ...  infection_overseas  infection_unknown\n",
              "0  1000000001     1  ...                   1                  0\n",
              "1  1000000004     4  ...                   1                  0\n",
              "2  1000000014    10  ...                   0                  0\n",
              "3  1000000015     8  ...                   0                  0\n",
              "4  1000000302     1  ...                   1                  0\n",
              "\n",
              "[5 rows x 10 columns]"
            ]
          },
          "metadata": {},
          "execution_count": 46
        }
      ]
    },
    {
      "cell_type": "markdown",
      "metadata": {
        "id": "GXwlWWV-UpzB"
      },
      "source": [
        "### 2.1.2. scaling"
      ]
    },
    {
      "cell_type": "code",
      "metadata": {
        "colab": {
          "base_uri": "https://localhost:8080/",
          "height": 262
        },
        "id": "gTEr3KPOUI7j",
        "outputId": "d4819c6d-0989-4a51-d0b8-326b93a78491"
      },
      "source": [
        "# 인풋값 지정\n",
        "inputs = ['days', \n",
        "          'essential', 'non-essential', 'contact_number',\n",
        "          'infection_group', 'infection_individual', 'infection_overseas', 'infection_unknown']\n",
        "\n",
        "X = data_[inputs]\n",
        "print(X.shape)\n",
        "X.head()"
      ],
      "execution_count": 47,
      "outputs": [
        {
          "output_type": "stream",
          "name": "stdout",
          "text": [
            "(124, 8)\n"
          ]
        },
        {
          "output_type": "execute_result",
          "data": {
            "text/html": [
              "<div>\n",
              "<style scoped>\n",
              "    .dataframe tbody tr th:only-of-type {\n",
              "        vertical-align: middle;\n",
              "    }\n",
              "\n",
              "    .dataframe tbody tr th {\n",
              "        vertical-align: top;\n",
              "    }\n",
              "\n",
              "    .dataframe thead th {\n",
              "        text-align: right;\n",
              "    }\n",
              "</style>\n",
              "<table border=\"1\" class=\"dataframe\">\n",
              "  <thead>\n",
              "    <tr style=\"text-align: right;\">\n",
              "      <th></th>\n",
              "      <th>days</th>\n",
              "      <th>essential</th>\n",
              "      <th>non-essential</th>\n",
              "      <th>contact_number</th>\n",
              "      <th>infection_group</th>\n",
              "      <th>infection_individual</th>\n",
              "      <th>infection_overseas</th>\n",
              "      <th>infection_unknown</th>\n",
              "    </tr>\n",
              "  </thead>\n",
              "  <tbody>\n",
              "    <tr>\n",
              "      <th>0</th>\n",
              "      <td>1</td>\n",
              "      <td>1.00</td>\n",
              "      <td>1.00</td>\n",
              "      <td>75.00</td>\n",
              "      <td>0</td>\n",
              "      <td>0</td>\n",
              "      <td>1</td>\n",
              "      <td>0</td>\n",
              "    </tr>\n",
              "    <tr>\n",
              "      <th>1</th>\n",
              "      <td>4</td>\n",
              "      <td>1.00</td>\n",
              "      <td>0.00</td>\n",
              "      <td>9.00</td>\n",
              "      <td>0</td>\n",
              "      <td>0</td>\n",
              "      <td>1</td>\n",
              "      <td>0</td>\n",
              "    </tr>\n",
              "    <tr>\n",
              "      <th>2</th>\n",
              "      <td>10</td>\n",
              "      <td>10.00</td>\n",
              "      <td>3.00</td>\n",
              "      <td>27.00</td>\n",
              "      <td>0</td>\n",
              "      <td>1</td>\n",
              "      <td>0</td>\n",
              "      <td>0</td>\n",
              "    </tr>\n",
              "    <tr>\n",
              "      <th>3</th>\n",
              "      <td>8</td>\n",
              "      <td>6.00</td>\n",
              "      <td>3.00</td>\n",
              "      <td>8.00</td>\n",
              "      <td>1</td>\n",
              "      <td>0</td>\n",
              "      <td>0</td>\n",
              "      <td>0</td>\n",
              "    </tr>\n",
              "    <tr>\n",
              "      <th>4</th>\n",
              "      <td>1</td>\n",
              "      <td>1.00</td>\n",
              "      <td>0.00</td>\n",
              "      <td>8.00</td>\n",
              "      <td>0</td>\n",
              "      <td>0</td>\n",
              "      <td>1</td>\n",
              "      <td>0</td>\n",
              "    </tr>\n",
              "  </tbody>\n",
              "</table>\n",
              "</div>"
            ],
            "text/plain": [
              "   days  essential  ...  infection_overseas  infection_unknown\n",
              "0     1       1.00  ...                   1                  0\n",
              "1     4       1.00  ...                   1                  0\n",
              "2    10      10.00  ...                   0                  0\n",
              "3     8       6.00  ...                   0                  0\n",
              "4     1       1.00  ...                   1                  0\n",
              "\n",
              "[5 rows x 8 columns]"
            ]
          },
          "metadata": {},
          "execution_count": 47
        }
      ]
    },
    {
      "cell_type": "code",
      "metadata": {
        "id": "KcsP1WyJVANB"
      },
      "source": [
        "X = X.values\n",
        "scaler = StandardScaler()\n",
        "X = scaler.fit_transform(X)  "
      ],
      "execution_count": 48,
      "outputs": []
    },
    {
      "cell_type": "markdown",
      "metadata": {
        "id": "P6mk894oVIe0"
      },
      "source": [
        "## 2.2. Dimensionality reduction using PCA"
      ]
    },
    {
      "cell_type": "code",
      "metadata": {
        "colab": {
          "base_uri": "https://localhost:8080/",
          "height": 278
        },
        "id": "J7kxYbbHVG9p",
        "outputId": "c6c01c73-1465-4207-f109-74398d11ec15"
      },
      "source": [
        "# 의견 + 질문 (*): PCA 어떤 원리로 만들어지는지?\n",
        "# PCA 차트를 통해 3-4개의 clusters가 파악될 것을 예상?\n",
        "pca = PCA(n_components = 2)\n",
        "principalComponents = pca.fit_transform(X)\n",
        "principalDF = pd.DataFrame(data = principalComponents, columns = ['PC1', 'PC2'])\n",
        "\n",
        "ax = sns.scatterplot(x='PC1', y='PC2', data = principalDF) \n",
        "sns.regplot(x=principalDF['PC1'], y=principalDF['PC2'], fit_reg=False)\n",
        "\n",
        "display()"
      ],
      "execution_count": 49,
      "outputs": [
        {
          "output_type": "display_data",
          "data": {
            "image/png": "[encoded data removed]",
            "text/plain": [
              "<Figure size 432x288 with 1 Axes>"
            ]
          },
          "metadata": {
            "needs_background": "light"
          }
        }
      ]
    },
    {
      "cell_type": "markdown",
      "metadata": {
        "id": "4IlDh5eoV6dY"
      },
      "source": [
        "# 2.3. Clustering"
      ]
    },
    {
      "cell_type": "code",
      "metadata": {
        "colab": {
          "base_uri": "https://localhost:8080/",
          "height": 404
        },
        "id": "RPILS0FEVtRF",
        "outputId": "d5919d05-c6f1-45a5-8dd0-0aa0325da31e"
      },
      "source": [
        "# cluster 개수 별 SSE 를통해 optimal한 clusters의 개수 확인\n",
        "# 4개 이상일 때 에러가 감소하는 폭이 줄어든 것을 확인\n",
        "cluster_range = range(1,7)\n",
        "cluster_errors = []\n",
        "for n in cluster_range:\n",
        "    cluster = KMeans(n)\n",
        "    cluster.fit(X)\n",
        "    cluster_errors.append(cluster.inertia_)\n",
        "\n",
        "plt.figure(figsize = (6,6))\n",
        "plt.plot(cluster_range, cluster_errors)\n",
        "plt.title('the Elbow method')\n",
        "plt.xlabel('the number of clusters')\n",
        "plt.ylabel('within-cluster sum of squares')\n",
        "display()"
      ],
      "execution_count": 50,
      "outputs": [
        {
          "output_type": "display_data",
          "data": {
            "image/png": "[encoded data removed]",
            "text/plain": [
              "<Figure size 432x432 with 1 Axes>"
            ]
          },
          "metadata": {
            "needs_background": "light"
          }
        }
      ]
    },
    {
      "cell_type": "code",
      "metadata": {
        "id": "fYCY-MJpW4OT"
      },
      "source": [
        "# 4개 이상일 때 어떤 현상이 나타나는지 먼저 확인. 5개\n",
        "# 방법 : KMeans 클러스터 시각화\n",
        "km = KMeans(n_clusters = 5)\n",
        "km.fit(X)\n",
        "\n",
        "centroids = km.cluster_centers_ \n",
        "labels= km.labels_\n",
        "data_['label'] = labels"
      ],
      "execution_count": 51,
      "outputs": []
    },
    {
      "cell_type": "code",
      "metadata": {
        "colab": {
          "base_uri": "https://localhost:8080/",
          "height": 483
        },
        "id": "udYelOVCXlHA",
        "outputId": "3ecf9696-6ab4-42d4-c6a1-1f6a50c3fb7b"
      },
      "source": [
        "# 한 개 포인트만 구분한 클러스터 존재 -> 4개 최적\n",
        "pca = PCA(n_components = 2)\n",
        "principalComponents = pca.fit_transform(X)\n",
        "principalDF = pd.DataFrame(data = principalComponents, columns = ['PC1', 'PC2'])\n",
        "\n",
        "plt.figure(figsize = (8,8))\n",
        "plt.scatter('PC1', 'PC2', data = principalDF, c = labels)\n",
        "\n",
        "display()"
      ],
      "execution_count": 52,
      "outputs": [
        {
          "output_type": "display_data",
          "data": {
            "image/png": "[encoded data removed]",
            "text/plain": [
              "<Figure size 576x576 with 1 Axes>"
            ]
          },
          "metadata": {
            "needs_background": "light"
          }
        }
      ]
    },
    {
      "cell_type": "code",
      "metadata": {
        "colab": {
          "base_uri": "https://localhost:8080/"
        },
        "id": "3NcGY6SrXSzp",
        "outputId": "1f9e6e9f-59a9-4c9a-dcd3-d306b9def6e7"
      },
      "source": [
        "data_.groupby(['label'])['patient_id'].count()"
      ],
      "execution_count": 53,
      "outputs": [
        {
          "output_type": "execute_result",
          "data": {
            "text/plain": [
              "label\n",
              "0    46\n",
              "1    39\n",
              "2    23\n",
              "3    15\n",
              "4     1\n",
              "Name: patient_id, dtype: int64"
            ]
          },
          "metadata": {},
          "execution_count": 53
        }
      ]
    },
    {
      "cell_type": "code",
      "metadata": {
        "colab": {
          "base_uri": "https://localhost:8080/",
          "height": 117
        },
        "id": "ZTTlaP1BX2L-",
        "outputId": "439b9181-c2d3-49a4-d0bb-2580e4ea21e5"
      },
      "source": [
        "data_[data_['label'] == 4]"
      ],
      "execution_count": 55,
      "outputs": [
        {
          "output_type": "execute_result",
          "data": {
            "text/html": [
              "<div>\n",
              "<style scoped>\n",
              "    .dataframe tbody tr th:only-of-type {\n",
              "        vertical-align: middle;\n",
              "    }\n",
              "\n",
              "    .dataframe tbody tr th {\n",
              "        vertical-align: top;\n",
              "    }\n",
              "\n",
              "    .dataframe thead th {\n",
              "        text-align: right;\n",
              "    }\n",
              "</style>\n",
              "<table border=\"1\" class=\"dataframe\">\n",
              "  <thead>\n",
              "    <tr style=\"text-align: right;\">\n",
              "      <th></th>\n",
              "      <th>patient_id</th>\n",
              "      <th>days</th>\n",
              "      <th>contact_number</th>\n",
              "      <th>essential</th>\n",
              "      <th>non-essential</th>\n",
              "      <th>infection</th>\n",
              "      <th>infection_group</th>\n",
              "      <th>infection_individual</th>\n",
              "      <th>infection_overseas</th>\n",
              "      <th>infection_unknown</th>\n",
              "      <th>label</th>\n",
              "    </tr>\n",
              "  </thead>\n",
              "  <tbody>\n",
              "    <tr>\n",
              "      <th>62</th>\n",
              "      <td>1300000001</td>\n",
              "      <td>7</td>\n",
              "      <td>450.00</td>\n",
              "      <td>7.00</td>\n",
              "      <td>1.00</td>\n",
              "      <td>overseas</td>\n",
              "      <td>0</td>\n",
              "      <td>0</td>\n",
              "      <td>1</td>\n",
              "      <td>0</td>\n",
              "      <td>4</td>\n",
              "    </tr>\n",
              "  </tbody>\n",
              "</table>\n",
              "</div>"
            ],
            "text/plain": [
              "    patient_id  days  ...  infection_unknown  label\n",
              "62  1300000001     7  ...                  0      4\n",
              "\n",
              "[1 rows x 11 columns]"
            ]
          },
          "metadata": {},
          "execution_count": 55
        }
      ]
    },
    {
      "cell_type": "code",
      "metadata": {
        "colab": {
          "base_uri": "https://localhost:8080/"
        },
        "id": "uR4UToC_X54J",
        "outputId": "ef15bdc4-45ab-4e4a-9944-b7be30f3b6e6"
      },
      "source": [
        "# 의견 (*) : 위 포인트 다른 네 개의 clusters와 행동 패턴을 공유하지 않음 -> 제거\n",
        "data_ = data_[data_['patient_id'] != 1300000001]\n",
        "data_.reset_index(drop = True, inplace = True)\n",
        "\n",
        "X = data_[inputs]\n",
        "print('X shape:', X.shape) \n",
        "\n",
        "X = X.values\n",
        "scaler = StandardScaler()\n",
        "X = scaler.fit_transform(X)\n",
        "\n",
        "km = KMeans(n_clusters = 4)\n",
        "km.fit(X)\n",
        "\n",
        "centroids = km.cluster_centers_ \n",
        "labels= km.labels_\n",
        "data_['label'] = labels"
      ],
      "execution_count": 56,
      "outputs": [
        {
          "output_type": "stream",
          "name": "stdout",
          "text": [
            "X shape: (123, 8)\n"
          ]
        }
      ]
    },
    {
      "cell_type": "code",
      "metadata": {
        "colab": {
          "base_uri": "https://localhost:8080/",
          "height": 483
        },
        "id": "lcUNdUQzYIgC",
        "outputId": "c5877821-1a30-4005-c697-53ad98d27f66"
      },
      "source": [
        "pca = PCA(n_components = 2)\n",
        "principalComponents = pca.fit_transform(X)\n",
        "principalDF = pd.DataFrame(data = principalComponents, columns = ['PC1', 'PC2'])\n",
        "\n",
        "plt.figure(figsize = (8,8))\n",
        "plt.scatter('PC1', 'PC2', data = principalDF, c = labels)\n",
        "\n",
        "display()"
      ],
      "execution_count": 57,
      "outputs": [
        {
          "output_type": "display_data",
          "data": {
            "image/png": "[encoded data removed]",
            "text/plain": [
              "<Figure size 576x576 with 1 Axes>"
            ]
          },
          "metadata": {
            "needs_background": "light"
          }
        }
      ]
    },
    {
      "cell_type": "markdown",
      "metadata": {
        "id": "3Nm4baDOYbc2"
      },
      "source": [
        "# 3. Cluster 분석 결과: 코로나19 확진자들의 네 가지 유형"
      ]
    },
    {
      "cell_type": "code",
      "metadata": {
        "id": "mj_7T-bgYZvG"
      },
      "source": [
        "# 질문 (*) : results_.csv 파일 구할 수 없는지? 직접 처리할 수는 없는지\n",
        "# 위의 분석 결과에 더해 행동 특성들의 실제 값을 보다 readable하게 제작해 저장한 데이터셋을 불러와 활용\n",
        "# data_ = pd.read_csv('results_.csv')\n",
        "# data_.head(2)"
      ],
      "execution_count": 60,
      "outputs": []
    },
    {
      "cell_type": "markdown",
      "metadata": {
        "id": "AL3UWxTxZht5"
      },
      "source": [
        "---\n",
        "아래 내용은 원본 결과보면서 의견 추가\n",
        "\n",
        "원본 주소: https://dacon.io/competitions/official/235590/codeshare/949"
      ]
    },
    {
      "cell_type": "code",
      "metadata": {
        "id": "MC0hI7W3YuSc"
      },
      "source": [
        "# 클러스터 이름 설정\n",
        "cluster_dic = {}\n",
        "for label, name in zip(data_['label'], data_['label_name']):\n",
        "    cluster_dic[label] = name\n",
        "\n",
        "# 클러스터 색상 설정\n",
        "colour = {0: '#EF3D59',\n",
        "          1: '#E17A47',\n",
        "          2: '#EFC958',\n",
        "          3: '#4AB19D'} "
      ],
      "execution_count": null,
      "outputs": []
    },
    {
      "cell_type": "code",
      "metadata": {
        "id": "BK6J4tqUa2nf"
      },
      "source": [
        "# 의견 (*) : 시각화 plotly.express as px 활용 matplotlib, seaborn 외에 새로운 시각화 툴\n",
        "# 차원 축소 scatter plot\n",
        "layout = { \n",
        "  \"title\": \"Fours types of patients by behavioural patterns\",  \n",
        "  \"plot_bgcolor\": \"rgb(252,252,252)\"\n",
        "}\n",
        " \n",
        "fig = px.scatter(data_, x = 'PC1', y = 'PC2'\n",
        "                 , color = 'label_name'\n",
        "                 , hover_data = ['infection_route', 'promptness_of_diagnosis', 'essential_mobility', 'non_essential_mobility']\n",
        "                 , color_discrete_sequence = ['#4AB19D', '#EFC958', '#E17A47', '#EF3D59']\n",
        "                 , height= 600)\n",
        "\n",
        "fig.update(layout = layout)  \n",
        "fig.show()"
      ],
      "execution_count": null,
      "outputs": []
    },
    {
      "cell_type": "markdown",
      "metadata": {
        "id": "4MdOcZtxbj2l"
      },
      "source": [
        "## 3.1. 감염 경로\n",
        "- 1) Hypermobile & hypersocial unknowns: 모두 감염 경로가 알려지지 않음\n",
        "- 2) Moderate groupies: 모두 집단 감염자\n",
        "- 3) Social minimalists: 모두 개인 감염자\n",
        "- 4) Overseas non-essentialists: 모두 해외 유입"
      ]
    },
    {
      "cell_type": "code",
      "metadata": {
        "id": "umnshaHOcFPN"
      },
      "source": [
        "# 의견 (*) : FacetGrid 다양한 범주형 값을 가지는 데이터 시각화 \n",
        "# 방법 : map() 이용 그리드 객체에 전달\n",
        "g = sns.FacetGrid(data_, col = 'label',  height = 6, sharey = True, sharex = True, \n",
        "                  hue= 'label', palette=colour)\n",
        "\n",
        "g.map(sns.countplot, \"infection\", order = ['unknown', 'group', 'individual', 'overseas'])\n",
        "  \n",
        "ax0, ax1, ax2, ax3 = g.axes[0]\n",
        "\n",
        "for i, ax in enumerate([ax0, ax1, ax2, ax3]):\n",
        "    ax.set_title(cluster_dic[i]) \n",
        "display()"
      ],
      "execution_count": null,
      "outputs": []
    },
    {
      "cell_type": "markdown",
      "metadata": {
        "id": "77l_SUn8cqQY"
      },
      "source": [
        "## 3.2. 유동성\n",
        "확진자 수가 많고 적음에 따라 유형별 총 방문 횟수 역시 높고 낮아질 수 있음  \n",
        "유형별 총 이동 횟수에 유형에 속하는 확진자 수를 나누어 '유형별 인당 이동 횟수'를 구함\n"
      ]
    },
    {
      "cell_type": "code",
      "metadata": {
        "id": "56fjzvvtdL9R"
      },
      "source": [
        "g1 = pd.DataFrame(data_.groupby(['label', 'patient_id'])['essential'].sum())\n",
        "g2 = pd.DataFrame(data_.groupby(['label', 'patient_id'])['non-essential'].sum())\n",
        "g = g1.merge(g2, left_index = True, right_index = True)\n",
        "g.reset_index(inplace = True)\n",
        "g['label'] = g['label'].astype('category')\n",
        "# 방법 : 유형에 속하는 확진자 수를 melt를 통해 구함\n",
        "g_ = g.melt(id_vars= ['label', 'patient_id'], value_vars=['essential', 'non-essential'],\n",
        "        var_name='route', value_name='route_sum')\n",
        "# 방법 : 유형별 총 이동 횟수를 groupby를 통해 구함 \n",
        "g__ = g_.groupby(['label','route'])['route_sum'].mean()\n",
        "g__ = pd.DataFrame(g__)\n",
        "g__ = g__.reset_index()"
      ],
      "execution_count": null,
      "outputs": []
    },
    {
      "cell_type": "code",
      "metadata": {
        "id": "t_MswaCFdeaf"
      },
      "source": [
        "g_sum = g__.groupby('label')['route_sum'].sum()\n",
        "g_sum = pd.DataFrame(g_sum)\n",
        "\n",
        "plt.figure(figsize = (10,8))\n",
        "ax = sns.barplot(g_sum.index, g_sum['route_sum'], palette = colour)\n",
        "\n",
        "xlabels = [v for k, v in sorted(cluster_dic.items())]  \n",
        "xlabels[0] = 'Hypermobile & hypersocial\\nunknowns'\n",
        "\n",
        "ax.set_xticklabels(xlabels, fontsize = 10)\n",
        "ax.set(xlabel='Cluster', ylabel='Total number of visits(per person)') \n",
        "\n",
        "ax.spines['right'].set_visible(False)\n",
        "ax.spines['top'].set_visible(False)\n",
        "\n",
        "ax.axhline(g_sum['route_sum'].mean(), ls='--', color = '#AF4BCE') \n",
        "ax.text(0.7, 0.74, 'mobility on average',\n",
        "    horizontalalignment='left',\n",
        "    size = '15', color = '#AF4BCE',transform = ax.transAxes)\n",
        "\n",
        "display()"
      ],
      "execution_count": null,
      "outputs": []
    },
    {
      "cell_type": "code",
      "metadata": {
        "id": "54I-Gjujdpl-"
      },
      "source": [
        "avg_ess = g__.groupby('route')['route_sum'].mean().values[0]\n",
        "avg_non = g__.groupby('route')['route_sum'].mean().values[1]\n",
        "\n",
        "g = sns.FacetGrid(g__, col = 'label', height = 8, sharey = True, hue= 'label', palette=colour)\n",
        "g.map(sns.barplot, 'route', 'route_sum') \n",
        "\n",
        "ax0, ax1, ax2, ax3 = g.axes[0]\n",
        "\n",
        "for i, ax in enumerate([ax0, ax1, ax2, ax3]):\n",
        "    ax.set_title(cluster_dic[i])\n",
        "    ax.axhline(avg_ess, ls='--', color = '#20639B') \n",
        "    ax.axhline(avg_non, ls='--', color = '#AF4BCE') \n",
        "    if i == 3:\n",
        "        ax.text(0.32, 0.74, 'non-essential mobility on average',\n",
        "        horizontalalignment='left',\n",
        "            size = '20', color = '#AF4BCE',transform = ax.transAxes)\n",
        "        ax.text(0.4, 0.64, 'essential mobility on average',\n",
        "        horizontalalignment='left',\n",
        "            size = '20', color = '#20639B',transform = ax.transAxes)\n",
        "\n",
        "display()"
      ],
      "execution_count": null,
      "outputs": []
    },
    {
      "cell_type": "markdown",
      "metadata": {
        "id": "1CIzcd00dsaB"
      },
      "source": [
        "## 3.3. 접촉 정도\n",
        "첫번째 유형 가장 높고, 두번째 유형이 두번째로 높은 반면, 세번째와 네번째 유형은 훨씬 낮은 수준의 접촉 정도"
      ]
    },
    {
      "cell_type": "code",
      "metadata": {
        "id": "svT88Y7jd3NZ"
      },
      "source": [
        "g = data_.groupby(['label']).describe()['contact_number']\n",
        "g = g.reset_index()\n",
        "\n",
        "plt.figure(figsize = (10,8))\n",
        "\n",
        "ax = sns.barplot(g.index, g['mean'], palette = colour)\n",
        "\n",
        "ax.set_xticklabels(xlabels, fontsize = 10)\n",
        "ax.set(xlabel='Cluster', ylabel='The number of contacts with other people') \n",
        "\n",
        "ax.spines['right'].set_visible(False)\n",
        "ax.spines['top'].set_visible(False)\n",
        "\n",
        "ax.axhline(data_['contact_number'].mean(), ls='--', color = '#AF4BCE') \n",
        "ax.text(0.6, 0.7, 'contact numbers on average',\n",
        "    horizontalalignment='left',\n",
        "    size = '15', color = '#AF4BCE',transform = ax.transAxes)\n",
        "\n",
        "display()"
      ],
      "execution_count": null,
      "outputs": []
    },
    {
      "cell_type": "markdown",
      "metadata": {
        "id": "jZL1nc6id73Y"
      },
      "source": [
        "# 3.4. 확진받기까지 걸린 시간\n",
        "첫번째 유형이 확진받기까지 가장 오랜 시간, 두번째와 세번째 유형은 첫번째 유형보다는 빨리 확진, 네번째 유형은 가장 빨리 확진"
      ]
    },
    {
      "cell_type": "code",
      "metadata": {
        "id": "wwt4P_hnel0v"
      },
      "source": [
        "g = data_.groupby(['label']).describe()['days']\n",
        "g = g.reset_index()\n",
        "\n",
        "plt.figure(figsize = (10,8))\n",
        "\n",
        "ax = sns.barplot(g.index, g['mean'], palette = colour)\n",
        "\n",
        "xlabels = [v for k, v in sorted(cluster_dic.items())]  \n",
        "xlabels[0] = 'Hypermobile & hypersocial\\nunknowns'\n",
        "\n",
        "ax.set_xticklabels(xlabels, fontsize = 10)\n",
        "ax.set(xlabel='Cluster', ylabel='Promptness of diagnosis (days)') \n",
        "\n",
        "ax.spines['right'].set_visible(False)\n",
        "ax.spines['top'].set_visible(False)\n",
        "# 방법 (*) : axhline 위치 mean을 통해 중간에 지정 (했었나?)\n",
        "ax.axhline(data_['days'].mean(), ls='--', color = '#AF4BCE') \n",
        "ax.text(0.5, 0.74, 'promptness of diagnosis on average',\n",
        "    horizontalalignment='left',\n",
        "    size = '15', color = '#AF4BCE',transform = ax.transAxes)\n",
        "\n",
        "\n",
        "display()"
      ],
      "execution_count": null,
      "outputs": []
    },
    {
      "cell_type": "markdown",
      "metadata": {
        "id": "nE-Ss3d4fQ6t"
      },
      "source": [
        "## 3.5. 유형 별 사망자/회복자의 분포\n",
        "사망자가 첫번째 유형에서만 나타남"
      ]
    },
    {
      "cell_type": "code",
      "metadata": {
        "id": "cuvUld3NfYTW"
      },
      "source": [
        "g = sns.FacetGrid(data_, col = 'label', height = 8, sharey = True, sharex = True,\n",
        "                  hue= 'label', palette=colour)\n",
        "g.map(sns.countplot, \"state\", order = data_['state'].unique().tolist())\n",
        "\n",
        "ax0, ax1, ax2, ax3 = g.axes[0]\n",
        "\n",
        "for i, ax in enumerate([ax0, ax1, ax2, ax3]):\n",
        "    ax.set_title(cluster_dic[i]) \n",
        "display()"
      ],
      "execution_count": null,
      "outputs": []
    },
    {
      "cell_type": "code",
      "metadata": {
        "id": "vTqmnre-fczM"
      },
      "source": [
        "# 의견 (*) : plotly.graph_objects as go  / plotly 여러가지 있음\n",
        "# 유형별 행동 특성을 직관적으로 파악\n",
        "categories = ['non-essential mobility',\n",
        "              'overall mobility',\n",
        "              'infection route',   \n",
        "              'death', \n",
        "              'diagnosis time',\n",
        "              'number of contacts']\n",
        "\n",
        "figure = go.Figure()\n",
        "\n",
        "figure.add_trace(go.Scatterpolar(\n",
        "      r=[1.28993026770945,1.55298600830023,-0.0998503330556044,1.73205080756887,1.45031686418962,1.42715396821808],\n",
        "      theta=categories,\n",
        "      fill='toself',\n",
        "    line=dict(width=0.5, color = 'rgba(239,61,89,.2)'),\n",
        "      name='Hypermobile & hypersocial unknowns'\n",
        ")) \n",
        "\n",
        "figure.add_trace(go.Scatterpolar(\n",
        "      r=[0.607732509740207,0.130826373345411,-0.0998503330556044,-1.37615293363446,-0.0412021836417504,0.449380661272821],\n",
        "      theta=categories,\n",
        "      fill='toself',\n",
        "    line=dict(width=0.5, color = 'rgba(225,122,71,0.4)'),\n",
        "    name='Moderate groupies'\n",
        "))\n",
        " \n",
        "figure.add_trace(go.Scatterpolar(\n",
        "      r=[-1.23708396251465,-0.564862106091365,-0.0998503330556044,-1.37615293363446,-0.0329617469134004,-0.955551186332868],\n",
        "      theta=categories,\n",
        "      fill='toself',\n",
        "    line=dict(width=0.5, color = 'rgba(239,201,88,.6)'),\n",
        "      name='Social minimalists'\n",
        "))\n",
        "\n",
        "figure.add_trace(go.Scatterpolar(\n",
        "      r=[-0.660578814935007,-1.11895027555428,-0.0998503330556044,-1.37615293363446,-1.37615293363446,-0.920983443158035],\n",
        "      theta=categories,\n",
        "      fill='toself',\n",
        "   line=dict(width=0.5, color = 'rgba(74,177,157,0.8)'),\n",
        "      name='Overseas non-essentialists'\n",
        "))\n",
        "\n",
        "\n",
        "figure.update_layout(\n",
        "  polar=dict(\n",
        "    radialaxis=dict(\n",
        "      visible=False\n",
        "#       ,range=[0, 10]\n",
        "    )),\n",
        "  showlegend=True,\n",
        "    width = 878,\n",
        "    height = 878\n",
        ") \n",
        "\n",
        "figure.show()"
      ],
      "execution_count": null,
      "outputs": []
    },
    {
      "cell_type": "markdown",
      "metadata": {
        "id": "z_jUiMPtgDpM"
      },
      "source": [
        "- 가장 큰 도면을 차지하는 유형이 cluster 모델의 기반이 된 네 가지의 행동 특성에서 가장 극단적인 정도를 보이는 유형\n",
        "- Hypermobile and hypersocial unknowns 이 모든 행동 유형과 사망률에서 가장 넓은 도면을 차지\n",
        "- 즉, 유동성, 부수적 이동, 접촉 정도, 확진받는데까지 걸린 시간 등의 행동 특성에서 모두 높은 정도를 보임\n",
        "- 특이성 사망이 나타난 유일한 유형"
      ]
    },
    {
      "cell_type": "markdown",
      "metadata": {
        "id": "jxPKewcWgjs0"
      },
      "source": [
        "# 4. 코로나19 확진이 늦어지면 사망 위험도 높아질까?\n",
        "- 많은 장소에 돌아다닌 사람들은 진단 검사 받기가 꺼려짐\n",
        "- 하지만 확진이 늦어지면 치료, 관리 늦어짐, 회복 가능성 낮아짐\n",
        "\n",
        "(결론)\n",
        "- 사망자들이 회복자들보다 확진받기까지 더 오래 걸림\n",
        "- 사망자들의 확진 시간은 회복자들보다 평균적으로 2.5일이 더 걸림"
      ]
    },
    {
      "cell_type": "code",
      "metadata": {
        "colab": {
          "base_uri": "https://localhost:8080/"
        },
        "id": "ivtLvfVdgVKz",
        "outputId": "ea474d59-2ac0-4c23-9627-450a059dcc08"
      },
      "source": [
        "p = pd.read_csv('PatientInfo.csv')\n",
        "p = p[p['state'] != 'isolated']\n",
        "p['symptom_onset_date'] = np.where(p['symptom_onset_date'] == ' ', np.nan, p['symptom_onset_date'])\n",
        "p = p[(p['symptom_onset_date'].notna()) & p['confirmed_date'].notna()]\n",
        "print('number of patients to be plotted:', p.shape)"
      ],
      "execution_count": 62,
      "outputs": [
        {
          "output_type": "stream",
          "name": "stdout",
          "text": [
            "number of patients to be plotted: (290, 18)\n"
          ]
        }
      ]
    },
    {
      "cell_type": "code",
      "metadata": {
        "id": "8NfPhuPMh-1W"
      },
      "source": [
        ""
      ],
      "execution_count": null,
      "outputs": []
    }
  ]
}